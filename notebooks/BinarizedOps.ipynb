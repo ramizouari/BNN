{
 "cells": [
  {
   "cell_type": "code",
   "execution_count": 1,
   "id": "ee600737-654e-42a8-8bce-159639f1a028",
   "metadata": {},
   "outputs": [],
   "source": [
    "import numpy as np\n",
    "import os\n",
    "os.environ['CUDA_VISIBLE_DEVICES'] = '-1'\n",
    "import tensorflow as tf\n",
    "import time\n",
    "from binaryflow import deploy"
   ]
  },
  {
   "cell_type": "code",
   "execution_count": 2,
   "id": "8a7abe32-675b-47fd-8668-c1e34904e7e0",
   "metadata": {},
   "outputs": [],
   "source": [
    "n=11272\n",
    "u=np.random.choice([-1,1],[n,128])\n",
    "A=np.random.choice([-1,1],[512,n])"
   ]
  },
  {
   "cell_type": "code",
   "execution_count": 5,
   "id": "b40f2a5b-aa02-4cab-a27f-4e17b7b6e867",
   "metadata": {},
   "outputs": [
    {
     "name": "stdout",
     "output_type": "stream",
     "text": [
      "3.35 s ± 32 ms per loop (mean ± std. dev. of 7 runs, 1 loop each)\n"
     ]
    }
   ],
   "source": [
    "%timeit A@u"
   ]
  },
  {
   "cell_type": "code",
   "execution_count": 7,
   "id": "55f2640c-0afd-4f0a-a773-453e876b19d6",
   "metadata": {},
   "outputs": [],
   "source": []
  },
  {
   "cell_type": "code",
   "execution_count": 3,
   "id": "97790d9e-69df-43ae-8a83-4bb5fcf1fb6a",
   "metadata": {},
   "outputs": [],
   "source": [
    "A_B=deploy.binarize(A)"
   ]
  },
  {
   "cell_type": "code",
   "execution_count": 5,
   "id": "df3e7fec-e6b5-46b5-ba38-9b56793f140c",
   "metadata": {},
   "outputs": [
    {
     "name": "stdout",
     "output_type": "stream",
     "text": [
      "95.3 ms ± 1.75 ms per loop (mean ± std. dev. of 7 runs, 10 loops each)\n"
     ]
    }
   ],
   "source": [
    "%timeit deploy.binarized_batch_mat_mul(A_B,u)"
   ]
  },
  {
   "cell_type": "code",
   "execution_count": 6,
   "id": "caec6c91-ce15-4d6f-b10a-f8bd97517a3e",
   "metadata": {},
   "outputs": [
    {
     "name": "stdout",
     "output_type": "stream",
     "text": [
      "3.14 s ± 87 ms per loop (mean ± std. dev. of 7 runs, 1 loop each)\n"
     ]
    }
   ],
   "source": [
    "%timeit A@u"
   ]
  },
  {
   "cell_type": "code",
   "execution_count": 4,
   "id": "e3765401-344f-4c72-9bf7-2d8cb259f357",
   "metadata": {},
   "outputs": [
    {
     "name": "stderr",
     "output_type": "stream",
     "text": [
      "2022-09-05 16:20:26.029210: E tensorflow/stream_executor/cuda/cuda_driver.cc:271] failed call to cuInit: CUDA_ERROR_NO_DEVICE: no CUDA-capable device is detected\n",
      "2022-09-05 16:20:26.029416: I tensorflow/stream_executor/cuda/cuda_diagnostics.cc:169] retrieving CUDA diagnostic information for host: fedora\n",
      "2022-09-05 16:20:26.029451: I tensorflow/stream_executor/cuda/cuda_diagnostics.cc:176] hostname: fedora\n",
      "2022-09-05 16:20:26.029818: I tensorflow/stream_executor/cuda/cuda_diagnostics.cc:200] libcuda reported version is: 515.65.1\n",
      "2022-09-05 16:20:26.029920: I tensorflow/stream_executor/cuda/cuda_diagnostics.cc:204] kernel reported version is: 515.65.1\n",
      "2022-09-05 16:20:26.029949: I tensorflow/stream_executor/cuda/cuda_diagnostics.cc:310] kernel version seems to match DSO: 515.65.1\n",
      "2022-09-05 16:20:26.031315: I tensorflow/core/platform/cpu_feature_guard.cc:193] This TensorFlow binary is optimized with oneAPI Deep Neural Network Library (oneDNN) to use the following CPU instructions in performance-critical operations:  AVX2 FMA\n",
      "To enable them in other operations, rebuild TensorFlow with the appropriate compiler flags.\n"
     ]
    },
    {
     "name": "stdout",
     "output_type": "stream",
     "text": [
      "41.2 ms ± 2.02 ms per loop (mean ± std. dev. of 7 runs, 10 loops each)\n"
     ]
    }
   ],
   "source": [
    "A_gpu=tf.constant(A)\n",
    "u_gpu=tf.constant(u)\n",
    "%timeit A_gpu@u_gpu"
   ]
  },
  {
   "cell_type": "code",
   "execution_count": 15,
   "id": "c195bf65-0d58-4448-98fc-5c0dc3eae345",
   "metadata": {},
   "outputs": [
    {
     "name": "stdout",
     "output_type": "stream",
     "text": [
      "25 ms ± 65.7 µs per loop (mean ± std. dev. of 7 runs, 10 loops each)\n"
     ]
    }
   ],
   "source": [
    "def F():\n",
    "    with tf.device(\"/cpu:0\"):\n",
    "        return A_gpu@u_gpu\n",
    "%timeit F()"
   ]
  },
  {
   "cell_type": "code",
   "execution_count": null,
   "id": "ad73917b-7e1a-4289-b2c3-4baa96b307a6",
   "metadata": {},
   "outputs": [
    {
     "name": "stdout",
     "output_type": "stream",
     "text": [
      "4\n"
     ]
    },
    {
     "data": {
      "text/plain": [
       "True"
      ]
     },
     "execution_count": 368,
     "metadata": {},
     "output_type": "execute_result"
    }
   ],
   "source": [
    "def do_nothing(u):\n",
    "    s,r=binarize(u,retPaddingCount=True)\n",
    "    print(r)\n",
    "    return unbinarize(s,r<<3)\n",
    "(u==do_nothing(u)).all()"
   ]
  },
  {
   "cell_type": "code",
   "execution_count": 563,
   "id": "f5095710-61b1-4904-9b35-7e0f6e7b92c4",
   "metadata": {},
   "outputs": [
    {
     "ename": "TypeError",
     "evalue": "object of type 'type' has no len()",
     "output_type": "error",
     "traceback": [
      "\u001b[0;31m---------------------------------------------------------------------------\u001b[0m",
      "\u001b[0;31mTypeError\u001b[0m                                 Traceback (most recent call last)",
      "\u001b[0;32m/tmp/ipykernel_47409/1089741009.py\u001b[0m in \u001b[0;36m<cell line: 1>\u001b[0;34m()\u001b[0m\n\u001b[0;32m----> 1\u001b[0;31m \u001b[0mlen\u001b[0m\u001b[0;34m(\u001b[0m\u001b[0mfloat\u001b[0m\u001b[0;34m)\u001b[0m\u001b[0;34m\u001b[0m\u001b[0;34m\u001b[0m\u001b[0m\n\u001b[0m",
      "\u001b[0;31mTypeError\u001b[0m: object of type 'type' has no len()"
     ]
    }
   ],
   "source": [
    "len(float)"
   ]
  },
  {
   "cell_type": "code",
   "execution_count": 331,
   "id": "b81270c5-cae6-45c3-abc3-f69329b68273",
   "metadata": {},
   "outputs": [
    {
     "data": {
      "text/plain": [
       "(300, 311)"
      ]
     },
     "execution_count": 477,
     "metadata": {},
     "output_type": "execute_result"
    }
   ],
   "source": [
    "binarize(u).shape"
   ]
  },
  {
   "cell_type": "code",
   "execution_count": 183,
   "id": "6cb4ce30-712a-4cc5-8b28-ffd74273feb8",
   "metadata": {},
   "outputs": [
    {
     "data": {
      "text/plain": [
       "0"
      ]
     },
     "execution_count": 183,
     "metadata": {},
     "output_type": "execute_result"
    }
   ],
   "source": [
    "(unbinarize(A_B) != A).sum()"
   ]
  },
  {
   "cell_type": "code",
   "execution_count": 18,
   "id": "81d2274a-dac3-4999-b97c-cea379ba0c6b",
   "metadata": {},
   "outputs": [
    {
     "data": {
      "text/plain": [
       "array([[  66.,    6.,  -16., ...,  204.,   46., -124.],\n",
       "       [-138.,   90.,  208., ..., -204.,  -54., -376.],\n",
       "       [  12.,  -68.,  110., ..., -134.,  260., -190.],\n",
       "       ...,\n",
       "       [  72., -212.,  -50., ..., -362.,  148., -206.],\n",
       "       [  48.,  164.,  -42., ...,  146., -220.,  182.],\n",
       "       [ 138., -150.,  -20., ...,  -72.,   -6., -156.]], dtype=float16)"
      ]
     },
     "execution_count": 18,
     "metadata": {},
     "output_type": "execute_result"
    }
   ],
   "source": [
    "(A.astype(np.int8)@u.astype(np.float16))"
   ]
  },
  {
   "cell_type": "code",
   "execution_count": 241,
   "id": "66abe2f5-6185-44f5-a480-438140fa83ee",
   "metadata": {},
   "outputs": [
    {
     "data": {
      "text/plain": [
       "6"
      ]
     },
     "execution_count": 241,
     "metadata": {},
     "output_type": "execute_result"
    }
   ],
   "source": [
    "bit_count(np.array([1,1,1])).sum()<<1"
   ]
  },
  {
   "cell_type": "code",
   "execution_count": 11,
   "id": "5ba28b4e-dd93-41d5-a3d1-e9ca92b58932",
   "metadata": {},
   "outputs": [
    {
     "data": {
      "text/plain": [
       "array([[0, 0, 0, ..., 0, 0, 0],\n",
       "       [0, 0, 0, ..., 0, 0, 0],\n",
       "       [0, 0, 0, ..., 0, 0, 0],\n",
       "       ...,\n",
       "       [0, 0, 0, ..., 0, 0, 0],\n",
       "       [0, 0, 0, ..., 0, 0, 0],\n",
       "       [0, 0, 0, ..., 0, 0, 0]])"
      ]
     },
     "execution_count": 11,
     "metadata": {},
     "output_type": "execute_result"
    }
   ],
   "source": [
    "BinarizedBatchMatMul(A_B,u)-(A@u).T"
   ]
  },
  {
   "cell_type": "code",
   "execution_count": 22,
   "id": "83c5c235-a086-4c49-a012-9b968b4647fa",
   "metadata": {},
   "outputs": [
    {
     "data": {
      "text/plain": [
       "<tf.Tensor: shape=(3,), dtype=int32, numpy=array([ 4,  8, 12], dtype=int32)>"
      ]
     },
     "execution_count": 22,
     "metadata": {},
     "output_type": "execute_result"
    }
   ],
   "source": [
    "tf.bitwise.left_shift(tf.constant([1,2,3]),2)"
   ]
  },
  {
   "cell_type": "code",
   "execution_count": 336,
   "id": "3a24b731-985f-4fad-85d9-c9e04f3604f6",
   "metadata": {},
   "outputs": [
    {
     "data": {
      "text/plain": [
       "100032"
      ]
     },
     "execution_count": 336,
     "metadata": {},
     "output_type": "execute_result"
    }
   ],
   "source": [
    "1563*64"
   ]
  },
  {
   "cell_type": "code",
   "execution_count": 566,
   "id": "9df6f5fe-e17a-4216-80c2-3acde5bda587",
   "metadata": {},
   "outputs": [
    {
     "data": {
      "text/plain": [
       "array([128], dtype=uint64)"
      ]
     },
     "execution_count": 566,
     "metadata": {},
     "output_type": "execute_result"
    }
   ],
   "source": [
    "binarize(np.array([True]))"
   ]
  },
  {
   "cell_type": "code",
   "execution_count": 571,
   "id": "6faf6ea0-3879-44c1-a01f-c28b5319d68a",
   "metadata": {},
   "outputs": [
    {
     "data": {
      "text/plain": [
       "array([ True, False, False, False, False, False, False, False, False,\n",
       "       False, False])"
      ]
     },
     "execution_count": 571,
     "metadata": {},
     "output_type": "execute_result"
    }
   ],
   "source": [
    "np.pad([True],(0,10))"
   ]
  },
  {
   "cell_type": "code",
   "execution_count": 578,
   "id": "405043f5-02c3-44bd-87a9-9938910a0e7d",
   "metadata": {},
   "outputs": [],
   "source": [
    "I=np.random.normal(0,1,[28,28,3])"
   ]
  },
  {
   "cell_type": "code",
   "execution_count": 585,
   "id": "f69bb0c2-0287-4c24-846b-3d4c7b9885f9",
   "metadata": {},
   "outputs": [
    {
     "ename": "TypeError",
     "evalue": "`pad_width` must be of integral type.",
     "output_type": "error",
     "traceback": [
      "\u001b[0;31m---------------------------------------------------------------------------\u001b[0m",
      "\u001b[0;31mTypeError\u001b[0m                                 Traceback (most recent call last)",
      "\u001b[0;32m/tmp/ipykernel_47409/928614074.py\u001b[0m in \u001b[0;36m<cell line: 5>\u001b[0;34m()\u001b[0m\n\u001b[1;32m      3\u001b[0m \u001b[0mi\u001b[0m\u001b[0;34m=\u001b[0m\u001b[0;36m0\u001b[0m\u001b[0;34m\u001b[0m\u001b[0;34m\u001b[0m\u001b[0m\n\u001b[1;32m      4\u001b[0m \u001b[0mj\u001b[0m\u001b[0;34m=\u001b[0m\u001b[0;36m0\u001b[0m\u001b[0;34m\u001b[0m\u001b[0;34m\u001b[0m\u001b[0m\n\u001b[0;32m----> 5\u001b[0;31m \u001b[0mnp\u001b[0m\u001b[0;34m.\u001b[0m\u001b[0mpad\u001b[0m\u001b[0;34m(\u001b[0m\u001b[0mI\u001b[0m\u001b[0;34m[\u001b[0m\u001b[0mmax\u001b[0m\u001b[0;34m(\u001b[0m\u001b[0mi\u001b[0m\u001b[0;34m-\u001b[0m\u001b[0mn\u001b[0m\u001b[0;34m//\u001b[0m\u001b[0;36m2\u001b[0m\u001b[0;34m,\u001b[0m\u001b[0;36m0\u001b[0m\u001b[0;34m)\u001b[0m\u001b[0;34m:\u001b[0m\u001b[0mmin\u001b[0m\u001b[0;34m(\u001b[0m\u001b[0mi\u001b[0m\u001b[0;34m+\u001b[0m\u001b[0mn\u001b[0m\u001b[0;34m//\u001b[0m\u001b[0;36m2\u001b[0m\u001b[0;34m+\u001b[0m\u001b[0;36m1\u001b[0m\u001b[0;34m,\u001b[0m\u001b[0mn\u001b[0m\u001b[0;34m-\u001b[0m\u001b[0;36m1\u001b[0m\u001b[0;34m)\u001b[0m\u001b[0;34m,\u001b[0m\u001b[0mmax\u001b[0m\u001b[0;34m(\u001b[0m\u001b[0mj\u001b[0m\u001b[0;34m-\u001b[0m\u001b[0mm\u001b[0m\u001b[0;34m//\u001b[0m\u001b[0;36m2\u001b[0m\u001b[0;34m,\u001b[0m\u001b[0mj\u001b[0m\u001b[0;34m+\u001b[0m\u001b[0mm\u001b[0m\u001b[0;34m//\u001b[0m\u001b[0;36m2\u001b[0m\u001b[0;34m+\u001b[0m\u001b[0mm\u001b[0m\u001b[0;34m-\u001b[0m\u001b[0;36m1\u001b[0m\u001b[0;34m)\u001b[0m\u001b[0;34m,\u001b[0m\u001b[0;34m...\u001b[0m\u001b[0;34m]\u001b[0m\u001b[0;34m,\u001b[0m\u001b[0;34m[\u001b[0m\u001b[0;34m(\u001b[0m\u001b[0mmax\u001b[0m\u001b[0;34m(\u001b[0m\u001b[0;36m0\u001b[0m\u001b[0;34m,\u001b[0m\u001b[0mn\u001b[0m\u001b[0;34m//\u001b[0m\u001b[0;36m2\u001b[0m\u001b[0;34m-\u001b[0m\u001b[0mi\u001b[0m\u001b[0;34m)\u001b[0m\u001b[0;34m,\u001b[0m\u001b[0mmax\u001b[0m\u001b[0;34m(\u001b[0m\u001b[0mn\u001b[0m\u001b[0;34m//\u001b[0m\u001b[0;36m2\u001b[0m\u001b[0;34m-\u001b[0m\u001b[0mn\u001b[0m\u001b[0;34m+\u001b[0m\u001b[0;36m1\u001b[0m\u001b[0;34m+\u001b[0m\u001b[0mi\u001b[0m\u001b[0;34m,\u001b[0m\u001b[0;36m0\u001b[0m\u001b[0;34m)\u001b[0m\u001b[0;34m)\u001b[0m\u001b[0;34m,\u001b[0m\u001b[0;34m(\u001b[0m\u001b[0mmax\u001b[0m\u001b[0;34m(\u001b[0m\u001b[0;36m0\u001b[0m\u001b[0;34m,\u001b[0m\u001b[0mm\u001b[0m\u001b[0;34m//\u001b[0m\u001b[0;36m2\u001b[0m\u001b[0;34m-\u001b[0m\u001b[0mj\u001b[0m\u001b[0;34m)\u001b[0m\u001b[0;34m,\u001b[0m\u001b[0mmax\u001b[0m\u001b[0;34m(\u001b[0m\u001b[0mm\u001b[0m\u001b[0;34m//\u001b[0m\u001b[0;36m2\u001b[0m\u001b[0;34m-\u001b[0m\u001b[0mm\u001b[0m\u001b[0;34m+\u001b[0m\u001b[0;36m1\u001b[0m\u001b[0;34m+\u001b[0m\u001b[0mj\u001b[0m\u001b[0;34m,\u001b[0m\u001b[0;36m0\u001b[0m\u001b[0;34m)\u001b[0m\u001b[0;34m)\u001b[0m\u001b[0;34m,\u001b[0m\u001b[0;36m0\u001b[0m\u001b[0;34m]\u001b[0m\u001b[0;34m)\u001b[0m\u001b[0;34m.\u001b[0m\u001b[0mflatten\u001b[0m\u001b[0;34m(\u001b[0m\u001b[0;34m)\u001b[0m\u001b[0;34m\u001b[0m\u001b[0;34m\u001b[0m\u001b[0m\n\u001b[0m",
      "\u001b[0;32m~/anaconda3/envs/tensorflow_2_9/lib/python3.9/site-packages/numpy/core/overrides.py\u001b[0m in \u001b[0;36mpad\u001b[0;34m(*args, **kwargs)\u001b[0m\n",
      "\u001b[0;32m~/anaconda3/envs/tensorflow_2_9/lib/python3.9/site-packages/numpy/lib/arraypad.py\u001b[0m in \u001b[0;36mpad\u001b[0;34m(array, pad_width, mode, **kwargs)\u001b[0m\n\u001b[1;32m    738\u001b[0m \u001b[0;34m\u001b[0m\u001b[0m\n\u001b[1;32m    739\u001b[0m     \u001b[0;32mif\u001b[0m \u001b[0;32mnot\u001b[0m \u001b[0mpad_width\u001b[0m\u001b[0;34m.\u001b[0m\u001b[0mdtype\u001b[0m\u001b[0;34m.\u001b[0m\u001b[0mkind\u001b[0m \u001b[0;34m==\u001b[0m \u001b[0;34m'i'\u001b[0m\u001b[0;34m:\u001b[0m\u001b[0;34m\u001b[0m\u001b[0;34m\u001b[0m\u001b[0m\n\u001b[0;32m--> 740\u001b[0;31m         \u001b[0;32mraise\u001b[0m \u001b[0mTypeError\u001b[0m\u001b[0;34m(\u001b[0m\u001b[0;34m'`pad_width` must be of integral type.'\u001b[0m\u001b[0;34m)\u001b[0m\u001b[0;34m\u001b[0m\u001b[0;34m\u001b[0m\u001b[0m\n\u001b[0m\u001b[1;32m    741\u001b[0m \u001b[0;34m\u001b[0m\u001b[0m\n\u001b[1;32m    742\u001b[0m     \u001b[0;31m# Broadcast to shape (array.ndim, 2)\u001b[0m\u001b[0;34m\u001b[0m\u001b[0;34m\u001b[0m\u001b[0m\n",
      "\u001b[0;31mTypeError\u001b[0m: `pad_width` must be of integral type."
     ]
    }
   ],
   "source": [
    "n=3\n",
    "m=3\n",
    "i=0\n",
    "j=0\n",
    "np.pad(I[max(i-n//2,0):min(i+n//2+1,n-1),max(j-m//2,j+m//2+m-1):min(),...],[(max(0,n//2-i),max(n//2-n+1+i,0)),(max(0,m//2-j),max(m//2-m+1+j,0)),0]).flatten()"
   ]
  },
  {
   "cell_type": "code",
   "execution_count": 582,
   "id": "2d987c99-c120-4291-9044-5f599006d284",
   "metadata": {},
   "outputs": [
    {
     "data": {
      "text/plain": [
       "[0, (1, 0), (1, 0), 0]"
      ]
     },
     "execution_count": 582,
     "metadata": {},
     "output_type": "execute_result"
    }
   ],
   "source": [
    "[0,(max(0,n//2-i),max(n//2-n+1+i,0)),(max(0,m//2-j),max(m//2-m+1+j,0)),0]"
   ]
  },
  {
   "cell_type": "code",
   "execution_count": 588,
   "id": "ea4dc76a-7937-46f6-bf53-d71bbef96944",
   "metadata": {},
   "outputs": [
    {
     "data": {
      "text/plain": [
       "(2, 3)"
      ]
     },
     "execution_count": 588,
     "metadata": {},
     "output_type": "execute_result"
    }
   ],
   "source": [
    "I[max(i-n//2,0):min(i+n//2+1,n-1),max(j-m//2,j+m//2+m-1),...].shape"
   ]
  },
  {
   "cell_type": "code",
   "execution_count": 12,
   "id": "4a07e881-65d5-45ca-9105-cf0b5d39ede9",
   "metadata": {},
   "outputs": [
    {
     "data": {
      "text/plain": [
       "numpy.float32"
      ]
     },
     "execution_count": 12,
     "metadata": {},
     "output_type": "execute_result"
    }
   ],
   "source": [
    "np.float32"
   ]
  },
  {
   "cell_type": "code",
   "execution_count": 37,
   "id": "1583323a-86b9-4554-ae06-d5a35f7bc09e",
   "metadata": {},
   "outputs": [],
   "source": [
    "C=tf.constant([1,6,3,2])"
   ]
  },
  {
   "cell_type": "code",
   "execution_count": 31,
   "id": "acaf2d1b-4003-4dac-874e-5cc931cc34d3",
   "metadata": {},
   "outputs": [
    {
     "data": {
      "text/plain": [
       "<tf.Tensor: shape=(4,), dtype=int32, numpy=array([1, 6, 3, 2], dtype=int32)>"
      ]
     },
     "execution_count": 31,
     "metadata": {},
     "output_type": "execute_result"
    }
   ],
   "source": [
    "tf.concat([c for c in C],axis=0)"
   ]
  },
  {
   "cell_type": "code",
   "execution_count": 32,
   "id": "823cf42d-8ba2-4024-933f-3a092f87d677",
   "metadata": {},
   "outputs": [
    {
     "data": {
      "text/plain": [
       "<tf.Tensor: shape=(4,), dtype=bool, numpy=array([ True, False, False, False])>"
      ]
     },
     "execution_count": 32,
     "metadata": {},
     "output_type": "execute_result"
    }
   ],
   "source": [
    "(C==1)pit"
   ]
  },
  {
   "cell_type": "code",
   "execution_count": 35,
   "id": "a73a5838-43da-48e5-a5c6-1b32b894fa58",
   "metadata": {},
   "outputs": [
    {
     "data": {
      "text/plain": [
       "<module 'tensorflow.compat.v1.raw_ops' from '/home/ramizouari/anaconda3/envs/tensorflow_2_9/lib/python3.9/site-packages/tensorflow/_api/v2/compat/v1/raw_ops/__init__.py'>"
      ]
     },
     "execution_count": 35,
     "metadata": {},
     "output_type": "execute_result"
    }
   ],
   "source": [
    "tf.compat.v2.raw_ops.Compare"
   ]
  },
  {
   "cell_type": "code",
   "execution_count": 80,
   "id": "907091b8-2d85-4700-8dcd-ec1451a262b3",
   "metadata": {},
   "outputs": [
    {
     "name": "stdout",
     "output_type": "stream",
     "text": [
      "26.5 ms ± 1.51 ms per loop (mean ± std. dev. of 7 runs, 10 loops each)\n"
     ]
    }
   ],
   "source": [
    "%timeit binarize_tensor(A)"
   ]
  },
  {
   "cell_type": "code",
   "execution_count": 79,
   "id": "9c83fcbd-2569-4e15-93cf-6084fd889597",
   "metadata": {},
   "outputs": [
    {
     "name": "stdout",
     "output_type": "stream",
     "text": [
      "26.4 ms ± 1.44 ms per loop (mean ± std. dev. of 7 runs, 10 loops each)\n"
     ]
    }
   ],
   "source": [
    "%timeit binarize((A))"
   ]
  },
  {
   "cell_type": "code",
   "execution_count": 54,
   "id": "c66fed50-1171-4d8a-ae51-5e913f5c3bc9",
   "metadata": {},
   "outputs": [
    {
     "data": {
      "text/plain": [
       "tf.int32"
      ]
     },
     "execution_count": 54,
     "metadata": {},
     "output_type": "execute_result"
    }
   ],
   "source": [
    "C.dtype"
   ]
  },
  {
   "cell_type": "code",
   "execution_count": 71,
   "id": "6b3f705d-a353-4b69-98ad-bd325337f9a7",
   "metadata": {},
   "outputs": [
    {
     "data": {
      "text/plain": [
       "4"
      ]
     },
     "execution_count": 71,
     "metadata": {},
     "output_type": "execute_result"
    }
   ],
   "source": [
    "C.dtype.size"
   ]
  },
  {
   "cell_type": "code",
   "execution_count": 85,
   "id": "86192cbb-acbe-4381-becd-7993c15621d0",
   "metadata": {},
   "outputs": [
    {
     "data": {
      "text/plain": [
       "<tf.Tensor: shape=(4,), dtype=float32, numpy=array([1., 6., 3., 2.], dtype=float32)>"
      ]
     },
     "execution_count": 85,
     "metadata": {},
     "output_type": "execute_result"
    }
   ],
   "source": [
    "tf.cast(C,float)"
   ]
  },
  {
   "cell_type": "code",
   "execution_count": 116,
   "id": "a1bad214-d090-4cc9-a180-eca761c7dfd0",
   "metadata": {},
   "outputs": [
    {
     "name": "stdout",
     "output_type": "stream",
     "text": [
      "219 ms ± 3.12 ms per loop (mean ± std. dev. of 7 runs, 1 loop each)\n"
     ]
    }
   ],
   "source": [
    "%timeit binarized_batch_mat_mul_tensor(binarize_tensor(A),u)"
   ]
  },
  {
   "cell_type": "code",
   "execution_count": 117,
   "id": "0d41ae7c-fce9-4a50-84bd-85d23a02e149",
   "metadata": {},
   "outputs": [
    {
     "name": "stdout",
     "output_type": "stream",
     "text": [
      "367 ms ± 23.4 ms per loop (mean ± std. dev. of 7 runs, 1 loop each)\n"
     ]
    }
   ],
   "source": [
    "%timeit BinarizedBatchMatMul(A_B,u)"
   ]
  },
  {
   "cell_type": "code",
   "execution_count": 120,
   "id": "78ac4b56-dc39-427e-a343-6b0768ff73d3",
   "metadata": {},
   "outputs": [
    {
     "data": {
      "text/plain": [
       "<tf.Tensor: shape=(2, 2), dtype=int64, numpy=\n",
       "array([[1, 3],\n",
       "       [2, 1]])>"
      ]
     },
     "execution_count": 120,
     "metadata": {},
     "output_type": "execute_result"
    }
   ],
   "source": [
    "tf.transpose(np.array([[1,2],[3,1]]))"
   ]
  },
  {
   "cell_type": "code",
   "execution_count": 5,
   "id": "bcb036a8-5d1e-416a-9945-e51155cac60f",
   "metadata": {},
   "outputs": [],
   "source": [
    "from tensorflow import raw_ops\n",
    "raw_ops.CompareAndBitpack"
   ]
  },
  {
   "cell_type": "code",
   "execution_count": 7,
   "id": "7936fd73-ab87-4c7d-850e-fc73549dbd63",
   "metadata": {},
   "outputs": [
    {
     "ename": "AttributeError",
     "evalue": "module 'tensorflow._api.v2.raw_ops' has no attribute 'CompareAndBitpack'",
     "output_type": "error",
     "traceback": [
      "\u001b[0;31m---------------------------------------------------------------------------\u001b[0m",
      "\u001b[0;31mAttributeError\u001b[0m                            Traceback (most recent call last)",
      "\u001b[0;32m/tmp/ipykernel_5115/404739620.py\u001b[0m in \u001b[0;36m<cell line: 1>\u001b[0;34m()\u001b[0m\n\u001b[0;32m----> 1\u001b[0;31m \u001b[0mraw_ops\u001b[0m\u001b[0;34m.\u001b[0m\u001b[0mCompareAndBitpack\u001b[0m\u001b[0;34m\u001b[0m\u001b[0;34m\u001b[0m\u001b[0m\n\u001b[0m",
      "\u001b[0;31mAttributeError\u001b[0m: module 'tensorflow._api.v2.raw_ops' has no attribute 'CompareAndBitpack'"
     ]
    }
   ],
   "source": []
  },
  {
   "cell_type": "code",
   "execution_count": 11,
   "id": "6eab9d79-f585-421c-8688-4c3805166606",
   "metadata": {},
   "outputs": [
    {
     "data": {
      "text/plain": [
       "<module 'tensorflow.compat.v1.raw_ops' from '/home/ramizouari/anaconda3/envs/tensorflow_2_9/lib/python3.9/site-packages/tensorflow/_api/v2/compat/v1/raw_ops/__init__.py'>"
      ]
     },
     "execution_count": 11,
     "metadata": {},
     "output_type": "execute_result"
    }
   ],
   "source": [
    "import tensorflow.compat.v1.raw_ops\n",
    "tf.compat.v1.raw_ops.bitpa"
   ]
  },
  {
   "cell_type": "code",
   "execution_count": null,
   "id": "170154b6-ccf4-4657-b6d5-01914bf793bb",
   "metadata": {},
   "outputs": [],
   "source": []
  }
 ],
 "metadata": {
  "kernelspec": {
   "display_name": "Python 3 (ipykernel)",
   "language": "python",
   "name": "python3"
  },
  "language_info": {
   "codemirror_mode": {
    "name": "ipython",
    "version": 3
   },
   "file_extension": ".py",
   "mimetype": "text/x-python",
   "name": "python",
   "nbconvert_exporter": "python",
   "pygments_lexer": "ipython3",
   "version": "3.9.13"
  }
 },
 "nbformat": 4,
 "nbformat_minor": 5
}
