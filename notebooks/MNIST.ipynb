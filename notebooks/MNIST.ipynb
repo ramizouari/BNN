{
 "cells": [
  {
   "cell_type": "code",
   "execution_count": 1,
   "id": "1e3bbd47-661d-4b06-8e7a-36dd3d46ee40",
   "metadata": {},
   "outputs": [
    {
     "name": "stderr",
     "output_type": "stream",
     "text": [
      "2022-08-04 17:27:39.059253: E tensorflow/stream_executor/cuda/cuda_driver.cc:271] failed call to cuInit: CUDA_ERROR_UNKNOWN: unknown error\n",
      "2022-08-04 17:27:39.059286: I tensorflow/stream_executor/cuda/cuda_diagnostics.cc:169] retrieving CUDA diagnostic information for host: fedora\n",
      "2022-08-04 17:27:39.059292: I tensorflow/stream_executor/cuda/cuda_diagnostics.cc:176] hostname: fedora\n",
      "2022-08-04 17:27:39.059381: I tensorflow/stream_executor/cuda/cuda_diagnostics.cc:200] libcuda reported version is: 515.57.0\n",
      "2022-08-04 17:27:39.059397: I tensorflow/stream_executor/cuda/cuda_diagnostics.cc:204] kernel reported version is: 515.57.0\n",
      "2022-08-04 17:27:39.059403: I tensorflow/stream_executor/cuda/cuda_diagnostics.cc:310] kernel version seems to match DSO: 515.57.0\n",
      "2022-08-04 17:27:39.059650: I tensorflow/core/platform/cpu_feature_guard.cc:193] This TensorFlow binary is optimized with oneAPI Deep Neural Network Library (oneDNN) to use the following CPU instructions in performance-critical operations:  AVX2 FMA\n",
      "To enable them in other operations, rebuild TensorFlow with the appropriate compiler flags.\n"
     ]
    }
   ],
   "source": [
    "import tensorflow as tf\n",
    "import larq as lq\n",
    "import numpy as np\n",
    "import pandas as pd\n",
    "import seaborn as sns\n",
    "from binaryflow import quantizers\n",
    "from binaryflow.layers import ABCNet,XnorNet\n",
    "from binaryflow.block import BiRealNet\n",
    "from binaryflow.layers.normalization import *"
   ]
  },
  {
   "cell_type": "code",
   "execution_count": 2,
   "id": "6e76dbef-edf3-4d50-8089-3501be4ace92",
   "metadata": {},
   "outputs": [
    {
     "name": "stdout",
     "output_type": "stream",
     "text": [
      "Epoch 1/30\n"
     ]
    },
    {
     "name": "stderr",
     "output_type": "stream",
     "text": [
      "/home/ramizouari/anaconda3/envs/tensorflow_2_9/lib/python3.9/site-packages/keras/optimizers/optimizer_v2/adam.py:110: UserWarning: The `lr` argument is deprecated, use `learning_rate` instead.\n",
      "  super(Adam, self).__init__(name, **kwargs)\n"
     ]
    },
    {
     "name": "stdout",
     "output_type": "stream",
     "text": [
      " 87/469 [====>.........................] - ETA: 14s - loss: 0.5890 - accuracy: 0.8333"
     ]
    },
    {
     "ename": "KeyboardInterrupt",
     "evalue": "",
     "output_type": "error",
     "traceback": [
      "\u001b[0;31m---------------------------------------------------------------------------\u001b[0m",
      "\u001b[0;31mKeyboardInterrupt\u001b[0m                         Traceback (most recent call last)",
      "\u001b[0;32m/tmp/ipykernel_73287/2099307220.py\u001b[0m in \u001b[0;36m<cell line: 41>\u001b[0;34m()\u001b[0m\n\u001b[1;32m     39\u001b[0m \u001b[0;34m\u001b[0m\u001b[0m\n\u001b[1;32m     40\u001b[0m \u001b[0;34m\u001b[0m\u001b[0m\n\u001b[0;32m---> 41\u001b[0;31m trained_model = model.fit(\n\u001b[0m\u001b[1;32m     42\u001b[0m   \u001b[0mX_train\u001b[0m\u001b[0;34m,\u001b[0m\u001b[0;34m\u001b[0m\u001b[0;34m\u001b[0m\u001b[0m\n\u001b[1;32m     43\u001b[0m   \u001b[0my_train\u001b[0m\u001b[0;34m,\u001b[0m\u001b[0;34m\u001b[0m\u001b[0;34m\u001b[0m\u001b[0m\n",
      "\u001b[0;32m~/anaconda3/envs/tensorflow_2_9/lib/python3.9/site-packages/keras/utils/traceback_utils.py\u001b[0m in \u001b[0;36merror_handler\u001b[0;34m(*args, **kwargs)\u001b[0m\n\u001b[1;32m     62\u001b[0m     \u001b[0mfiltered_tb\u001b[0m \u001b[0;34m=\u001b[0m \u001b[0;32mNone\u001b[0m\u001b[0;34m\u001b[0m\u001b[0;34m\u001b[0m\u001b[0m\n\u001b[1;32m     63\u001b[0m     \u001b[0;32mtry\u001b[0m\u001b[0;34m:\u001b[0m\u001b[0;34m\u001b[0m\u001b[0;34m\u001b[0m\u001b[0m\n\u001b[0;32m---> 64\u001b[0;31m       \u001b[0;32mreturn\u001b[0m \u001b[0mfn\u001b[0m\u001b[0;34m(\u001b[0m\u001b[0;34m*\u001b[0m\u001b[0margs\u001b[0m\u001b[0;34m,\u001b[0m \u001b[0;34m**\u001b[0m\u001b[0mkwargs\u001b[0m\u001b[0;34m)\u001b[0m\u001b[0;34m\u001b[0m\u001b[0;34m\u001b[0m\u001b[0m\n\u001b[0m\u001b[1;32m     65\u001b[0m     \u001b[0;32mexcept\u001b[0m \u001b[0mException\u001b[0m \u001b[0;32mas\u001b[0m \u001b[0me\u001b[0m\u001b[0;34m:\u001b[0m  \u001b[0;31m# pylint: disable=broad-except\u001b[0m\u001b[0;34m\u001b[0m\u001b[0;34m\u001b[0m\u001b[0m\n\u001b[1;32m     66\u001b[0m       \u001b[0mfiltered_tb\u001b[0m \u001b[0;34m=\u001b[0m \u001b[0m_process_traceback_frames\u001b[0m\u001b[0;34m(\u001b[0m\u001b[0me\u001b[0m\u001b[0;34m.\u001b[0m\u001b[0m__traceback__\u001b[0m\u001b[0;34m)\u001b[0m\u001b[0;34m\u001b[0m\u001b[0;34m\u001b[0m\u001b[0m\n",
      "\u001b[0;32m~/anaconda3/envs/tensorflow_2_9/lib/python3.9/site-packages/keras/engine/training.py\u001b[0m in \u001b[0;36mfit\u001b[0;34m(self, x, y, batch_size, epochs, verbose, callbacks, validation_split, validation_data, shuffle, class_weight, sample_weight, initial_epoch, steps_per_epoch, validation_steps, validation_batch_size, validation_freq, max_queue_size, workers, use_multiprocessing)\u001b[0m\n\u001b[1;32m   1407\u001b[0m                 _r=1):\n\u001b[1;32m   1408\u001b[0m               \u001b[0mcallbacks\u001b[0m\u001b[0;34m.\u001b[0m\u001b[0mon_train_batch_begin\u001b[0m\u001b[0;34m(\u001b[0m\u001b[0mstep\u001b[0m\u001b[0;34m)\u001b[0m\u001b[0;34m\u001b[0m\u001b[0;34m\u001b[0m\u001b[0m\n\u001b[0;32m-> 1409\u001b[0;31m               \u001b[0mtmp_logs\u001b[0m \u001b[0;34m=\u001b[0m \u001b[0mself\u001b[0m\u001b[0;34m.\u001b[0m\u001b[0mtrain_function\u001b[0m\u001b[0;34m(\u001b[0m\u001b[0miterator\u001b[0m\u001b[0;34m)\u001b[0m\u001b[0;34m\u001b[0m\u001b[0;34m\u001b[0m\u001b[0m\n\u001b[0m\u001b[1;32m   1410\u001b[0m               \u001b[0;32mif\u001b[0m \u001b[0mdata_handler\u001b[0m\u001b[0;34m.\u001b[0m\u001b[0mshould_sync\u001b[0m\u001b[0;34m:\u001b[0m\u001b[0;34m\u001b[0m\u001b[0;34m\u001b[0m\u001b[0m\n\u001b[1;32m   1411\u001b[0m                 \u001b[0mcontext\u001b[0m\u001b[0;34m.\u001b[0m\u001b[0masync_wait\u001b[0m\u001b[0;34m(\u001b[0m\u001b[0;34m)\u001b[0m\u001b[0;34m\u001b[0m\u001b[0;34m\u001b[0m\u001b[0m\n",
      "\u001b[0;32m~/anaconda3/envs/tensorflow_2_9/lib/python3.9/site-packages/tensorflow/python/util/traceback_utils.py\u001b[0m in \u001b[0;36merror_handler\u001b[0;34m(*args, **kwargs)\u001b[0m\n\u001b[1;32m    148\u001b[0m     \u001b[0mfiltered_tb\u001b[0m \u001b[0;34m=\u001b[0m \u001b[0;32mNone\u001b[0m\u001b[0;34m\u001b[0m\u001b[0;34m\u001b[0m\u001b[0m\n\u001b[1;32m    149\u001b[0m     \u001b[0;32mtry\u001b[0m\u001b[0;34m:\u001b[0m\u001b[0;34m\u001b[0m\u001b[0;34m\u001b[0m\u001b[0m\n\u001b[0;32m--> 150\u001b[0;31m       \u001b[0;32mreturn\u001b[0m \u001b[0mfn\u001b[0m\u001b[0;34m(\u001b[0m\u001b[0;34m*\u001b[0m\u001b[0margs\u001b[0m\u001b[0;34m,\u001b[0m \u001b[0;34m**\u001b[0m\u001b[0mkwargs\u001b[0m\u001b[0;34m)\u001b[0m\u001b[0;34m\u001b[0m\u001b[0;34m\u001b[0m\u001b[0m\n\u001b[0m\u001b[1;32m    151\u001b[0m     \u001b[0;32mexcept\u001b[0m \u001b[0mException\u001b[0m \u001b[0;32mas\u001b[0m \u001b[0me\u001b[0m\u001b[0;34m:\u001b[0m\u001b[0;34m\u001b[0m\u001b[0;34m\u001b[0m\u001b[0m\n\u001b[1;32m    152\u001b[0m       \u001b[0mfiltered_tb\u001b[0m \u001b[0;34m=\u001b[0m \u001b[0m_process_traceback_frames\u001b[0m\u001b[0;34m(\u001b[0m\u001b[0me\u001b[0m\u001b[0;34m.\u001b[0m\u001b[0m__traceback__\u001b[0m\u001b[0;34m)\u001b[0m\u001b[0;34m\u001b[0m\u001b[0;34m\u001b[0m\u001b[0m\n",
      "\u001b[0;32m~/anaconda3/envs/tensorflow_2_9/lib/python3.9/site-packages/tensorflow/python/eager/def_function.py\u001b[0m in \u001b[0;36m__call__\u001b[0;34m(self, *args, **kwds)\u001b[0m\n\u001b[1;32m    913\u001b[0m \u001b[0;34m\u001b[0m\u001b[0m\n\u001b[1;32m    914\u001b[0m       \u001b[0;32mwith\u001b[0m \u001b[0mOptionalXlaContext\u001b[0m\u001b[0;34m(\u001b[0m\u001b[0mself\u001b[0m\u001b[0;34m.\u001b[0m\u001b[0m_jit_compile\u001b[0m\u001b[0;34m)\u001b[0m\u001b[0;34m:\u001b[0m\u001b[0;34m\u001b[0m\u001b[0;34m\u001b[0m\u001b[0m\n\u001b[0;32m--> 915\u001b[0;31m         \u001b[0mresult\u001b[0m \u001b[0;34m=\u001b[0m \u001b[0mself\u001b[0m\u001b[0;34m.\u001b[0m\u001b[0m_call\u001b[0m\u001b[0;34m(\u001b[0m\u001b[0;34m*\u001b[0m\u001b[0margs\u001b[0m\u001b[0;34m,\u001b[0m \u001b[0;34m**\u001b[0m\u001b[0mkwds\u001b[0m\u001b[0;34m)\u001b[0m\u001b[0;34m\u001b[0m\u001b[0;34m\u001b[0m\u001b[0m\n\u001b[0m\u001b[1;32m    916\u001b[0m \u001b[0;34m\u001b[0m\u001b[0m\n\u001b[1;32m    917\u001b[0m       \u001b[0mnew_tracing_count\u001b[0m \u001b[0;34m=\u001b[0m \u001b[0mself\u001b[0m\u001b[0;34m.\u001b[0m\u001b[0mexperimental_get_tracing_count\u001b[0m\u001b[0;34m(\u001b[0m\u001b[0;34m)\u001b[0m\u001b[0;34m\u001b[0m\u001b[0;34m\u001b[0m\u001b[0m\n",
      "\u001b[0;32m~/anaconda3/envs/tensorflow_2_9/lib/python3.9/site-packages/tensorflow/python/eager/def_function.py\u001b[0m in \u001b[0;36m_call\u001b[0;34m(self, *args, **kwds)\u001b[0m\n\u001b[1;32m    945\u001b[0m       \u001b[0;31m# In this case we have created variables on the first call, so we run the\u001b[0m\u001b[0;34m\u001b[0m\u001b[0;34m\u001b[0m\u001b[0m\n\u001b[1;32m    946\u001b[0m       \u001b[0;31m# defunned version which is guaranteed to never create variables.\u001b[0m\u001b[0;34m\u001b[0m\u001b[0;34m\u001b[0m\u001b[0m\n\u001b[0;32m--> 947\u001b[0;31m       \u001b[0;32mreturn\u001b[0m \u001b[0mself\u001b[0m\u001b[0;34m.\u001b[0m\u001b[0m_stateless_fn\u001b[0m\u001b[0;34m(\u001b[0m\u001b[0;34m*\u001b[0m\u001b[0margs\u001b[0m\u001b[0;34m,\u001b[0m \u001b[0;34m**\u001b[0m\u001b[0mkwds\u001b[0m\u001b[0;34m)\u001b[0m  \u001b[0;31m# pylint: disable=not-callable\u001b[0m\u001b[0;34m\u001b[0m\u001b[0;34m\u001b[0m\u001b[0m\n\u001b[0m\u001b[1;32m    948\u001b[0m     \u001b[0;32melif\u001b[0m \u001b[0mself\u001b[0m\u001b[0;34m.\u001b[0m\u001b[0m_stateful_fn\u001b[0m \u001b[0;32mis\u001b[0m \u001b[0;32mnot\u001b[0m \u001b[0;32mNone\u001b[0m\u001b[0;34m:\u001b[0m\u001b[0;34m\u001b[0m\u001b[0;34m\u001b[0m\u001b[0m\n\u001b[1;32m    949\u001b[0m       \u001b[0;31m# Release the lock early so that multiple threads can perform the call\u001b[0m\u001b[0;34m\u001b[0m\u001b[0;34m\u001b[0m\u001b[0m\n",
      "\u001b[0;32m~/anaconda3/envs/tensorflow_2_9/lib/python3.9/site-packages/tensorflow/python/eager/function.py\u001b[0m in \u001b[0;36m__call__\u001b[0;34m(self, *args, **kwargs)\u001b[0m\n\u001b[1;32m   2451\u001b[0m       (graph_function,\n\u001b[1;32m   2452\u001b[0m        filtered_flat_args) = self._maybe_define_function(args, kwargs)\n\u001b[0;32m-> 2453\u001b[0;31m     return graph_function._call_flat(\n\u001b[0m\u001b[1;32m   2454\u001b[0m         filtered_flat_args, captured_inputs=graph_function.captured_inputs)  # pylint: disable=protected-access\n\u001b[1;32m   2455\u001b[0m \u001b[0;34m\u001b[0m\u001b[0m\n",
      "\u001b[0;32m~/anaconda3/envs/tensorflow_2_9/lib/python3.9/site-packages/tensorflow/python/eager/function.py\u001b[0m in \u001b[0;36m_call_flat\u001b[0;34m(self, args, captured_inputs, cancellation_manager)\u001b[0m\n\u001b[1;32m   1858\u001b[0m         and executing_eagerly):\n\u001b[1;32m   1859\u001b[0m       \u001b[0;31m# No tape is watching; skip to running the function.\u001b[0m\u001b[0;34m\u001b[0m\u001b[0;34m\u001b[0m\u001b[0m\n\u001b[0;32m-> 1860\u001b[0;31m       return self._build_call_outputs(self._inference_function.call(\n\u001b[0m\u001b[1;32m   1861\u001b[0m           ctx, args, cancellation_manager=cancellation_manager))\n\u001b[1;32m   1862\u001b[0m     forward_backward = self._select_forward_and_backward_functions(\n",
      "\u001b[0;32m~/anaconda3/envs/tensorflow_2_9/lib/python3.9/site-packages/tensorflow/python/eager/function.py\u001b[0m in \u001b[0;36mcall\u001b[0;34m(self, ctx, args, cancellation_manager)\u001b[0m\n\u001b[1;32m    495\u001b[0m       \u001b[0;32mwith\u001b[0m \u001b[0m_InterpolateFunctionError\u001b[0m\u001b[0;34m(\u001b[0m\u001b[0mself\u001b[0m\u001b[0;34m)\u001b[0m\u001b[0;34m:\u001b[0m\u001b[0;34m\u001b[0m\u001b[0;34m\u001b[0m\u001b[0m\n\u001b[1;32m    496\u001b[0m         \u001b[0;32mif\u001b[0m \u001b[0mcancellation_manager\u001b[0m \u001b[0;32mis\u001b[0m \u001b[0;32mNone\u001b[0m\u001b[0;34m:\u001b[0m\u001b[0;34m\u001b[0m\u001b[0;34m\u001b[0m\u001b[0m\n\u001b[0;32m--> 497\u001b[0;31m           outputs = execute.execute(\n\u001b[0m\u001b[1;32m    498\u001b[0m               \u001b[0mstr\u001b[0m\u001b[0;34m(\u001b[0m\u001b[0mself\u001b[0m\u001b[0;34m.\u001b[0m\u001b[0msignature\u001b[0m\u001b[0;34m.\u001b[0m\u001b[0mname\u001b[0m\u001b[0;34m)\u001b[0m\u001b[0;34m,\u001b[0m\u001b[0;34m\u001b[0m\u001b[0;34m\u001b[0m\u001b[0m\n\u001b[1;32m    499\u001b[0m               \u001b[0mnum_outputs\u001b[0m\u001b[0;34m=\u001b[0m\u001b[0mself\u001b[0m\u001b[0;34m.\u001b[0m\u001b[0m_num_outputs\u001b[0m\u001b[0;34m,\u001b[0m\u001b[0;34m\u001b[0m\u001b[0;34m\u001b[0m\u001b[0m\n",
      "\u001b[0;32m~/anaconda3/envs/tensorflow_2_9/lib/python3.9/site-packages/tensorflow/python/eager/execute.py\u001b[0m in \u001b[0;36mquick_execute\u001b[0;34m(op_name, num_outputs, inputs, attrs, ctx, name)\u001b[0m\n\u001b[1;32m     52\u001b[0m   \u001b[0;32mtry\u001b[0m\u001b[0;34m:\u001b[0m\u001b[0;34m\u001b[0m\u001b[0;34m\u001b[0m\u001b[0m\n\u001b[1;32m     53\u001b[0m     \u001b[0mctx\u001b[0m\u001b[0;34m.\u001b[0m\u001b[0mensure_initialized\u001b[0m\u001b[0;34m(\u001b[0m\u001b[0;34m)\u001b[0m\u001b[0;34m\u001b[0m\u001b[0;34m\u001b[0m\u001b[0m\n\u001b[0;32m---> 54\u001b[0;31m     tensors = pywrap_tfe.TFE_Py_Execute(ctx._handle, device_name, op_name,\n\u001b[0m\u001b[1;32m     55\u001b[0m                                         inputs, attrs, num_outputs)\n\u001b[1;32m     56\u001b[0m   \u001b[0;32mexcept\u001b[0m \u001b[0mcore\u001b[0m\u001b[0;34m.\u001b[0m\u001b[0m_NotOkStatusException\u001b[0m \u001b[0;32mas\u001b[0m \u001b[0me\u001b[0m\u001b[0;34m:\u001b[0m\u001b[0;34m\u001b[0m\u001b[0;34m\u001b[0m\u001b[0m\n",
      "\u001b[0;31mKeyboardInterrupt\u001b[0m: "
     ]
    }
   ],
   "source": [
    "  data_format=\"channels_last\"\n",
    "    \n",
    "(X_train,y_train),(X_test,y_test)=tf.keras.datasets.mnist.load_data()\n",
    "X_train=X_train.astype(dtype=np.float32)\n",
    "y_train=tf.one_hot(y_train,10)\n",
    "\n",
    "# All quantized layers except the first will use the same options\n",
    "\n",
    "kwargs = dict(\n",
    "              kernel_quantizers=\"ste_sign\",\n",
    "              input_quantizers=\"ste_sign\",\n",
    "              kernel_constraint=\"weight_clip\",\n",
    "              #kernel_params={\"mu_initializer\":tf.keras.initializers.RandomNormal(0,0.05)},\n",
    "              use_bias=False\n",
    "              )\n",
    "\n",
    "Dense=ABCNet.ABCDense\n",
    "Conv2D=ABCNet.ABCConv2D\n",
    "\n",
    "model = tf.keras.models.Sequential([\n",
    "    tf.keras.layers.Flatten(),\n",
    "    #tf.keras.layers.GaussianNoise(stddev=4),\n",
    "    ImageNormalizationLayer(),\n",
    "    tf.keras.layers.BatchNormalization(momentum=0.999,scale=False),\n",
    "    Dense(1024,activation=\"relu\", **kwargs),\n",
    "    tf.keras.layers.BatchNormalization(momentum=0.999,scale=False),\n",
    "    Dense(1024,activation=\"relu\",**kwargs),\n",
    "    tf.keras.layers.BatchNormalization(momentum=0.999,scale=False),\n",
    "    Dense(10, **kwargs),\n",
    "    tf.keras.layers.Activation(\"softmax\")\n",
    "])\n",
    "\n",
    "\n",
    "model.compile(\n",
    "    tf.keras.optimizers.Adam(lr=0.01, decay=0.0001),\n",
    "    loss=\"categorical_crossentropy\",\n",
    "    metrics=[\"accuracy\"],\n",
    ")\n",
    "\n",
    "\n",
    "trained_model = model.fit(\n",
    "    X_train, \n",
    "    y_train,\n",
    "    batch_size=128, \n",
    "    epochs=30,\n",
    "    validation_data=(X_test, tf.one_hot(y_test, 10)),\n",
    "    shuffle=True\n",
    ")"
   ]
  },
  {
   "cell_type": "code",
   "execution_count": 21,
   "id": "73303891-681a-48b3-b2fa-76763205b8d2",
   "metadata": {},
   "outputs": [],
   "source": [
    "import json\n",
    "json.dump(model.history.history,open(\"results/MNIST/ABCNet-Results-MNIST.\",\"w\"))"
   ]
  },
  {
   "cell_type": "code",
   "execution_count": 3,
   "id": "cb301a6e-534c-42e7-b867-ee98a6c4549a",
   "metadata": {},
   "outputs": [
    {
     "name": "stdout",
     "output_type": "stream",
     "text": [
      "+sequential stats----------------------------------------------------------------------------------------+\n",
      "| Layer                      Input prec.     Outputs  # 1-bit  # 32-bit  Memory  1-bit MACs  32-bit MACs |\n",
      "|                                  (bit)                  x 1       x 1    (kB)                          |\n",
      "+--------------------------------------------------------------------------------------------------------+\n",
      "| flatten                              -   (-1, 784)        0         0       0           0            0 |\n",
      "| image_normalization_layer            -   (-1, 784)        0         0       0           ?            ? |\n",
      "| batch_normalization                  -   (-1, 784)        0      1568    6.12           0            0 |\n",
      "| abc_dense                            1  (-1, 1024)  2408448      3072  306.00     2408448         3072 |\n",
      "| batch_normalization_1                -    multiple        0      2048    8.00           ?            ? |\n",
      "| abc_dense_1                          1  (-1, 1024)  3145728      3072  396.00     3145728         3072 |\n",
      "| batch_normalization_2                -    multiple        0      2048    8.00           ?            ? |\n",
      "| abc_dense_2                          1    (-1, 10)    30720        30    3.87       30720           30 |\n",
      "| activation                           -    multiple        0         0       0           ?            ? |\n",
      "+--------------------------------------------------------------------------------------------------------+\n",
      "| Total                                               5584896     11838  727.99     5584896         6174 |\n",
      "+--------------------------------------------------------------------------------------------------------+\n",
      "+sequential summary----------------------------+\n",
      "| Total params                      5.6 M      |\n",
      "| Trainable params                  5.59 M     |\n",
      "| Non-trainable params              5.66 k     |\n",
      "| Model size                        727.99 KiB |\n",
      "| Model size (8-bit FP weights)     693.31 KiB |\n",
      "| Float-32 Equivalent               21.35 MiB  |\n",
      "| Compression Ratio of Memory       0.03       |\n",
      "| Number of MACs                    5.59 M     |\n",
      "| Ratio of MACs that are binarized  0.9989     |\n",
      "+----------------------------------------------+\n"
     ]
    }
   ],
   "source": [
    "lq.models.summary(model)"
   ]
  },
  {
   "cell_type": "code",
   "execution_count": 5,
   "id": "7f22dfcc-9137-4fb7-9992-9fb27497e28f",
   "metadata": {},
   "outputs": [
    {
     "data": {
      "text/plain": [
       "<QuantizedVariable 'abc_dense_1/kernel:0' shape=(1024, 1024) dtype=float32 quantizer=SteSign precision=1 numpy=\n",
       "array([[ 0.08782385, -0.06336718, -0.0795977 , ..., -0.01897999,\n",
       "         0.13732205,  0.0150758 ],\n",
       "       [ 0.06247743, -0.00615585, -0.04191279, ..., -0.14396805,\n",
       "        -0.07085136,  0.04433692],\n",
       "       [ 0.01148298, -0.07169718, -0.09347291, ...,  0.01800714,\n",
       "         0.0952584 , -0.03183747],\n",
       "       ...,\n",
       "       [ 0.06324833, -0.03321908,  0.03360074, ..., -0.03294454,\n",
       "         0.0767939 ,  0.07613894],\n",
       "       [ 0.00846735, -0.02115245, -0.04455905, ..., -0.00715694,\n",
       "         0.1179852 , -0.12927361],\n",
       "       [-0.04949906,  0.0377853 ,  0.05305236, ...,  0.04323835,\n",
       "        -0.05108726,  0.03020819]], dtype=float32)>"
      ]
     },
     "execution_count": 5,
     "metadata": {},
     "output_type": "execute_result"
    }
   ],
   "source": [
    "model.layers[5].estimators[2].kernel"
   ]
  },
  {
   "cell_type": "code",
   "execution_count": 8,
   "id": "1feeee94-1a59-45d7-80f1-dd1169658408",
   "metadata": {},
   "outputs": [
    {
     "name": "stdout",
     "output_type": "stream",
     "text": [
      "None\n"
     ]
    }
   ],
   "source": [
    "print(.op_count(\"mac\"))"
   ]
  },
  {
   "cell_type": "code",
   "execution_count": 33,
   "id": "09b1f153-6bff-46e8-a661-ce1f6c2c0671",
   "metadata": {},
   "outputs": [],
   "source": [
    "lq.models.op_count_supported_layer_types=tuple(list(lq.models.op_count_supported_layer_types)+[ABCNet.ABCDense])"
   ]
  },
  {
   "cell_type": "code",
   "execution_count": 6,
   "id": "177fd9ae-12ab-44a1-b93e-a35335dc9929",
   "metadata": {},
   "outputs": [
    {
     "data": {
      "text/plain": [
       "True"
      ]
     },
     "execution_count": 6,
     "metadata": {},
     "output_type": "execute_result"
    }
   ],
   "source": [
    "isinstance(model.layers[3].estimators[0], lq.models.op_count_supported_layer_types)"
   ]
  },
  {
   "cell_type": "code",
   "execution_count": 43,
   "id": "dea0441f-1592-4eae-a981-6462aa2150da",
   "metadata": {},
   "outputs": [
    {
     "data": {
      "text/plain": [
       "(larq.layers.QuantConv2D,\n",
       " larq.layers.QuantSeparableConv2D,\n",
       " larq.layers.QuantDepthwiseConv2D,\n",
       " larq.layers.QuantDense,\n",
       " keras.layers.convolutional.conv2d.Conv2D,\n",
       " keras.layers.convolutional.separable_conv2d.SeparableConv2D,\n",
       " keras.layers.convolutional.depthwise_conv2d.DepthwiseConv2D,\n",
       " keras.layers.core.dense.Dense,\n",
       " larq.layers.QuantConv1D,\n",
       " larq.layers.QuantSeparableConv1D,\n",
       " keras.layers.convolutional.conv1d.Conv1D,\n",
       " keras.layers.convolutional.separable_conv1d.SeparableConv1D)"
      ]
     },
     "execution_count": 43,
     "metadata": {},
     "output_type": "execute_result"
    }
   ],
   "source": [
    "lq.models.mac_containing_layers"
   ]
  },
  {
   "cell_type": "code",
   "execution_count": 45,
   "id": "17749325-08f3-498d-89e3-5433da5db6fc",
   "metadata": {},
   "outputs": [
    {
     "data": {
      "text/plain": [
       "(keras.layers.reshaping.flatten.Flatten,\n",
       " keras.layers.normalization.batch_normalization.BatchNormalization,\n",
       " keras.layers.pooling.max_pooling2d.MaxPooling2D,\n",
       " keras.layers.pooling.average_pooling2d.AveragePooling2D,\n",
       " keras.layers.pooling.max_pooling1d.MaxPooling1D,\n",
       " keras.layers.pooling.average_pooling1d.AveragePooling1D,\n",
       " larq.layers.QuantConv2D,\n",
       " larq.layers.QuantSeparableConv2D,\n",
       " larq.layers.QuantDepthwiseConv2D,\n",
       " larq.layers.QuantDense,\n",
       " keras.layers.convolutional.conv2d.Conv2D,\n",
       " keras.layers.convolutional.separable_conv2d.SeparableConv2D,\n",
       " keras.layers.convolutional.depthwise_conv2d.DepthwiseConv2D,\n",
       " keras.layers.core.dense.Dense,\n",
       " larq.layers.QuantConv1D,\n",
       " larq.layers.QuantSeparableConv1D,\n",
       " keras.layers.convolutional.conv1d.Conv1D,\n",
       " keras.layers.convolutional.separable_conv1d.SeparableConv1D,\n",
       " binaryflow.layers.ABCNet.ABCDense)"
      ]
     },
     "execution_count": 45,
     "metadata": {},
     "output_type": "execute_result"
    }
   ],
   "source": [
    "lq.models.op_count_supported_layer_types"
   ]
  },
  {
   "cell_type": "code",
   "execution_count": 9,
   "id": "fa5345f5-abf7-4feb-9b89-488010e629db",
   "metadata": {},
   "outputs": [],
   "source": [
    "profiler=lq.models.LayerProfile(model.layers[3].estimators[0])"
   ]
  },
  {
   "cell_type": "code",
   "execution_count": 12,
   "id": "fa13c0a3-a7b2-48e5-9555-3e0b0fc246d9",
   "metadata": {},
   "outputs": [],
   "source": [
    "profiler.output_shape"
   ]
  },
  {
   "cell_type": "code",
   "execution_count": 13,
   "id": "9675616c-eb2c-4732-9834-8e3bfe324ba8",
   "metadata": {},
   "outputs": [
    {
     "ename": "AttributeError",
     "evalue": "The layer \"scaled_quant_dense\" has never been called and thus has no defined output shape.",
     "output_type": "error",
     "traceback": [
      "\u001b[0;31m---------------------------------------------------------------------------\u001b[0m",
      "\u001b[0;31mAttributeError\u001b[0m                            Traceback (most recent call last)",
      "\u001b[0;32m/tmp/ipykernel_46946/1682005777.py\u001b[0m in \u001b[0;36m<cell line: 1>\u001b[0;34m()\u001b[0m\n\u001b[0;32m----> 1\u001b[0;31m \u001b[0mmodel\u001b[0m\u001b[0;34m.\u001b[0m\u001b[0mlayers\u001b[0m\u001b[0;34m[\u001b[0m\u001b[0;36m3\u001b[0m\u001b[0;34m]\u001b[0m\u001b[0;34m.\u001b[0m\u001b[0mestimators\u001b[0m\u001b[0;34m[\u001b[0m\u001b[0;36m0\u001b[0m\u001b[0;34m]\u001b[0m\u001b[0;34m.\u001b[0m\u001b[0moutput_shape\u001b[0m\u001b[0;34m\u001b[0m\u001b[0;34m\u001b[0m\u001b[0m\n\u001b[0m",
      "\u001b[0;32m~/anaconda3/envs/tensorflow_2_9/lib/python3.9/site-packages/keras/engine/base_layer.py\u001b[0m in \u001b[0;36moutput_shape\u001b[0;34m(self)\u001b[0m\n\u001b[1;32m   1985\u001b[0m     \"\"\"\n\u001b[1;32m   1986\u001b[0m     \u001b[0;32mif\u001b[0m \u001b[0;32mnot\u001b[0m \u001b[0mself\u001b[0m\u001b[0;34m.\u001b[0m\u001b[0m_inbound_nodes\u001b[0m\u001b[0;34m:\u001b[0m\u001b[0;34m\u001b[0m\u001b[0;34m\u001b[0m\u001b[0m\n\u001b[0;32m-> 1987\u001b[0;31m       raise AttributeError(f'The layer \"{self.name}\" has never been called '\n\u001b[0m\u001b[1;32m   1988\u001b[0m                            'and thus has no defined output shape.')\n\u001b[1;32m   1989\u001b[0m     all_output_shapes = set(\n",
      "\u001b[0;31mAttributeError\u001b[0m: The layer \"scaled_quant_dense\" has never been called and thus has no defined output shape."
     ]
    }
   ],
   "source": [
    "model.layers[3].estimators[0].output_shape"
   ]
  },
  {
   "cell_type": "code",
   "execution_count": 5,
   "id": "c4abebc9-4367-4a2c-a933-1da4d2dfac89",
   "metadata": {},
   "outputs": [
    {
     "data": {
      "text/plain": [
       "True"
      ]
     },
     "execution_count": 5,
     "metadata": {},
     "output_type": "execute_result"
    }
   ],
   "source": [
    "isinstance(,tf.keras.Model)"
   ]
  },
  {
   "cell_type": "code",
   "execution_count": 6,
   "id": "027ba6d3-de24-4b80-88b6-733df45548ce",
   "metadata": {},
   "outputs": [],
   "source": [
    "s=tf.keras.Sequential([])"
   ]
  },
  {
   "cell_type": "code",
   "execution_count": 7,
   "id": "6ea5af81-0864-41ea-ac97-7ee794a7354b",
   "metadata": {},
   "outputs": [
    {
     "data": {
      "text/plain": [
       "<keras.engine.sequential.Sequential at 0x7f75d19889a0>"
      ]
     },
     "execution_count": 7,
     "metadata": {},
     "output_type": "execute_result"
    }
   ],
   "source": [
    "s"
   ]
  },
  {
   "cell_type": "code",
   "execution_count": 8,
   "id": "43c7b35f-bda5-478e-81ab-ba7c595a8faa",
   "metadata": {},
   "outputs": [
    {
     "data": {
      "text/plain": [
       "keras.engine.sequential.Sequential"
      ]
     },
     "execution_count": 8,
     "metadata": {},
     "output_type": "execute_result"
    }
   ],
   "source": [
    "type(s)"
   ]
  },
  {
   "cell_type": "code",
   "execution_count": null,
   "id": "4acc1937-e2d5-4b36-9884-3b6357d29eaa",
   "metadata": {},
   "outputs": [],
   "source": []
  }
 ],
 "metadata": {
  "kernelspec": {
   "display_name": "Python 3 (ipykernel)",
   "language": "python",
   "name": "python3"
  },
  "language_info": {
   "codemirror_mode": {
    "name": "ipython",
    "version": 3
   },
   "file_extension": ".py",
   "mimetype": "text/x-python",
   "name": "python",
   "nbconvert_exporter": "python",
   "pygments_lexer": "ipython3",
   "version": "3.9.13"
  }
 },
 "nbformat": 4,
 "nbformat_minor": 5
}
