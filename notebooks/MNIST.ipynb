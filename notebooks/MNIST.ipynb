{
 "cells": [
  {
   "cell_type": "code",
   "execution_count": 3,
   "id": "1e3bbd47-661d-4b06-8e7a-36dd3d46ee40",
   "metadata": {},
   "outputs": [],
   "source": [
    "import tensorflow as tf\n",
    "import larq as lq\n",
    "import numpy as np\n",
    "import pandas as pd\n",
    "import seaborn as sns\n",
    "from binaryflow import quantizers\n",
    "from binaryflow.layers import ABCNet,XnorNet,BinaryNet\n",
    "from binaryflow.block import BiRealNet\n",
    "from binaryflow.layers.normalization import *\n",
    "from contextlib import redirect_stdout"
   ]
  },
  {
   "cell_type": "code",
   "execution_count": 4,
   "id": "6e76dbef-edf3-4d50-8089-3501be4ace92",
   "metadata": {},
   "outputs": [
    {
     "name": "stderr",
     "output_type": "stream",
     "text": [
      "/home/ramizouari/anaconda3/envs/tensorflow_2_9/lib/python3.9/site-packages/keras/optimizers/optimizer_v2/adam.py:110: UserWarning: The `lr` argument is deprecated, use `learning_rate` instead.\n",
      "  super(Adam, self).__init__(name, **kwargs)\n"
     ]
    },
    {
     "name": "stdout",
     "output_type": "stream",
     "text": [
      "469/469 [==============================] - 5s 7ms/step - loss: 0.3110 - accuracy: 0.9230 - val_loss: 3.7355 - val_accuracy: 0.4000\n"
     ]
    }
   ],
   "source": [
    "  data_format=\"channels_last\"\n",
    "    \n",
    "(X_train,y_train),(X_test,y_test)=tf.keras.datasets.mnist.load_data()\n",
    "X_train=X_train.astype(dtype=np.float32)\n",
    "y_train=tf.one_hot(y_train,10)\n",
    "\n",
    "# All quantized layers except the first will use the same options\n",
    "\n",
    "abc_args = dict(\n",
    "              kernel_quantizers=\"ste_sign\",\n",
    "              input_quantizers=\"ste_sign\",\n",
    "              kernel_constraint=\"weight_clip\",\n",
    "              #kernel_params={\"mu_initializer\":tf.keras.initializers.RandomNormal(0,0.05)},\n",
    "              use_bias=False\n",
    "              )\n",
    "\n",
    "bnn_args=dict(kernel_quantizer=\"ste_sign\",\n",
    "              input_quantizer=\"ste_sign\",\n",
    "              kernel_constraint=\"weight_clip\",\n",
    "              use_bias=False)\n",
    "\n",
    "Args=[bnn_args]*2+[abc_args]\n",
    "\n",
    "Archs=[BinaryNet.QuantDense,XnorNet.ScaledQuantDense,ABCNet.ABCDense]\n",
    "Names=[\"BinaryNet\",\"XnorNet\",\"ABCNet\"]\n",
    "\n",
    "\n",
    "\n",
    "Dense=tf.keras.layers.Dense\n",
    "Conv2D=ABCNet.ABCConv2D\n",
    "\n",
    "models=[]\n",
    "\n",
    "model=tf.keras.models.Sequential([\n",
    "tf.keras.layers.Flatten(),\n",
    "#tf.keras.layers.GaussianNoise(stddev=4),\n",
    "ImageNormalizationLayer(),\n",
    "tf.keras.layers.BatchNormalization(momentum=0.999,scale=False),\n",
    "Dense(1024,activation=\"relu\"),\n",
    "tf.keras.layers.BatchNormalization(momentum=0.999,scale=False),\n",
    "Dense(1024,activation=\"relu\"),\n",
    "tf.keras.layers.BatchNormalization(momentum=0.999,scale=False),\n",
    "Dense(10),\n",
    "tf.keras.layers.Activation(\"softmax\")\n",
    "])\n",
    "models.append(model)\n",
    "model.compile(\n",
    "tf.keras.optimizers.Adam(lr=0.01, decay=0.0001),\n",
    "loss=\"categorical_crossentropy\",\n",
    "metrics=[\"accuracy\"],\n",
    ")\n",
    "\n",
    "\n",
    "trained_model = model.fit(\n",
    "    X_train, \n",
    "    y_train,\n",
    "    batch_size=128, \n",
    "    epochs=1,\n",
    "    validation_data=(X_test, tf.one_hot(y_test, 10)),\n",
    "    shuffle=True\n",
    ")\n",
    "\n",
    "            \n",
    "\n"
   ]
  },
  {
   "cell_type": "code",
   "execution_count": 21,
   "id": "73303891-681a-48b3-b2fa-76763205b8d2",
   "metadata": {},
   "outputs": [],
   "source": [
    "import json\n",
    "json.dump(model.history.history,open(\"results/MNIST/ABCNet-Results-MNIST.\",\"w\"))"
   ]
  },
  {
   "cell_type": "code",
   "execution_count": 5,
   "id": "cb301a6e-534c-42e7-b867-ee98a6c4549a",
   "metadata": {},
   "outputs": [
    {
     "name": "stdout",
     "output_type": "stream",
     "text": [
      "+sequential stats--------------------------------------------------------------------+\n",
      "| Layer                      Input prec.     Outputs  # 32-bit   Memory  32-bit MACs |\n",
      "|                                  (bit)                   x 1     (kB)              |\n",
      "+------------------------------------------------------------------------------------+\n",
      "| flatten                              -   (-1, 784)         0        0            0 |\n",
      "| image_normalization_layer            -   (-1, 784)         0        0            ? |\n",
      "| batch_normalization                  -   (-1, 784)      1568     6.12            0 |\n",
      "| dense                                -  (-1, 1024)    803840  3140.00       802816 |\n",
      "| batch_normalization_1                -  (-1, 1024)      2048     8.00            0 |\n",
      "| dense_1                              -  (-1, 1024)   1049600  4100.00      1048576 |\n",
      "| batch_normalization_2                -  (-1, 1024)      2048     8.00            0 |\n",
      "| dense_2                              -    (-1, 10)     10250    40.04        10240 |\n",
      "| activation                           -    (-1, 10)         0        0            ? |\n",
      "+------------------------------------------------------------------------------------+\n",
      "| Total                                                1869354  7302.16      1861632 |\n",
      "+------------------------------------------------------------------------------------+\n",
      "+sequential summary-----------------------+\n",
      "| Total params                   1.87 M   |\n",
      "| Trainable params               1.86 M   |\n",
      "| Non-trainable params           5.66 k   |\n",
      "| Model size                     7.13 MiB |\n",
      "| Model size (8-bit FP weights)  1.78 MiB |\n",
      "| Float-32 Equivalent            7.13 MiB |\n",
      "| Compression Ratio of Memory    1.00     |\n",
      "| Number of MACs                 1.86 M   |\n",
      "+-----------------------------------------+\n"
     ]
    }
   ],
   "source": [
    "lq.models.summary(model)"
   ]
  },
  {
   "cell_type": "code",
   "execution_count": 10,
   "id": "7f22dfcc-9137-4fb7-9992-9fb27497e28f",
   "metadata": {},
   "outputs": [],
   "source": [
    "\n",
    "with open(\"summary.txt\",\"w\") as file:\n",
    "        with redirect_stdout(file):\n",
    "            for model,name in zip(models,Names):\n",
    "                print(f\"Summary of MNIST results with model {name}\")\n",
    "                lq.models.summary(model)\n",
    "                print(\"-------------------------------------------\")"
   ]
  },
  {
   "cell_type": "code",
   "execution_count": 8,
   "id": "1feeee94-1a59-45d7-80f1-dd1169658408",
   "metadata": {},
   "outputs": [
    {
     "name": "stdout",
     "output_type": "stream",
     "text": [
      "None\n"
     ]
    }
   ],
   "source": [
    "print(.op_count(\"mac\"))"
   ]
  },
  {
   "cell_type": "code",
   "execution_count": 33,
   "id": "09b1f153-6bff-46e8-a661-ce1f6c2c0671",
   "metadata": {},
   "outputs": [],
   "source": [
    "lq.models.op_count_supported_layer_types=tuple(list(lq.models.op_count_supported_layer_types)+[ABCNet.ABCDense])"
   ]
  },
  {
   "cell_type": "code",
   "execution_count": 6,
   "id": "177fd9ae-12ab-44a1-b93e-a35335dc9929",
   "metadata": {},
   "outputs": [
    {
     "data": {
      "text/plain": [
       "True"
      ]
     },
     "execution_count": 6,
     "metadata": {},
     "output_type": "execute_result"
    }
   ],
   "source": [
    "isinstance(model.layers[3].estimators[0], lq.models.op_count_supported_layer_types)"
   ]
  },
  {
   "cell_type": "code",
   "execution_count": 43,
   "id": "dea0441f-1592-4eae-a981-6462aa2150da",
   "metadata": {},
   "outputs": [
    {
     "data": {
      "text/plain": [
       "(larq.layers.QuantConv2D,\n",
       " larq.layers.QuantSeparableConv2D,\n",
       " larq.layers.QuantDepthwiseConv2D,\n",
       " larq.layers.QuantDense,\n",
       " keras.layers.convolutional.conv2d.Conv2D,\n",
       " keras.layers.convolutional.separable_conv2d.SeparableConv2D,\n",
       " keras.layers.convolutional.depthwise_conv2d.DepthwiseConv2D,\n",
       " keras.layers.core.dense.Dense,\n",
       " larq.layers.QuantConv1D,\n",
       " larq.layers.QuantSeparableConv1D,\n",
       " keras.layers.convolutional.conv1d.Conv1D,\n",
       " keras.layers.convolutional.separable_conv1d.SeparableConv1D)"
      ]
     },
     "execution_count": 43,
     "metadata": {},
     "output_type": "execute_result"
    }
   ],
   "source": [
    "lq.models.mac_containing_layers"
   ]
  },
  {
   "cell_type": "code",
   "execution_count": 45,
   "id": "17749325-08f3-498d-89e3-5433da5db6fc",
   "metadata": {},
   "outputs": [
    {
     "data": {
      "text/plain": [
       "(keras.layers.reshaping.flatten.Flatten,\n",
       " keras.layers.normalization.batch_normalization.BatchNormalization,\n",
       " keras.layers.pooling.max_pooling2d.MaxPooling2D,\n",
       " keras.layers.pooling.average_pooling2d.AveragePooling2D,\n",
       " keras.layers.pooling.max_pooling1d.MaxPooling1D,\n",
       " keras.layers.pooling.average_pooling1d.AveragePooling1D,\n",
       " larq.layers.QuantConv2D,\n",
       " larq.layers.QuantSeparableConv2D,\n",
       " larq.layers.QuantDepthwiseConv2D,\n",
       " larq.layers.QuantDense,\n",
       " keras.layers.convolutional.conv2d.Conv2D,\n",
       " keras.layers.convolutional.separable_conv2d.SeparableConv2D,\n",
       " keras.layers.convolutional.depthwise_conv2d.DepthwiseConv2D,\n",
       " keras.layers.core.dense.Dense,\n",
       " larq.layers.QuantConv1D,\n",
       " larq.layers.QuantSeparableConv1D,\n",
       " keras.layers.convolutional.conv1d.Conv1D,\n",
       " keras.layers.convolutional.separable_conv1d.SeparableConv1D,\n",
       " binaryflow.layers.ABCNet.ABCDense)"
      ]
     },
     "execution_count": 45,
     "metadata": {},
     "output_type": "execute_result"
    }
   ],
   "source": [
    "lq.models.op_count_supported_layer_types"
   ]
  },
  {
   "cell_type": "code",
   "execution_count": 9,
   "id": "fa5345f5-abf7-4feb-9b89-488010e629db",
   "metadata": {},
   "outputs": [],
   "source": [
    "profiler=lq.models.LayerProfile(model.layers[3].estimators[0])"
   ]
  },
  {
   "cell_type": "code",
   "execution_count": 12,
   "id": "fa13c0a3-a7b2-48e5-9555-3e0b0fc246d9",
   "metadata": {},
   "outputs": [],
   "source": [
    "profiler.output_shape"
   ]
  },
  {
   "cell_type": "code",
   "execution_count": 13,
   "id": "9675616c-eb2c-4732-9834-8e3bfe324ba8",
   "metadata": {},
   "outputs": [
    {
     "ename": "AttributeError",
     "evalue": "The layer \"scaled_quant_dense\" has never been called and thus has no defined output shape.",
     "output_type": "error",
     "traceback": [
      "\u001b[0;31m---------------------------------------------------------------------------\u001b[0m",
      "\u001b[0;31mAttributeError\u001b[0m                            Traceback (most recent call last)",
      "\u001b[0;32m/tmp/ipykernel_46946/1682005777.py\u001b[0m in \u001b[0;36m<cell line: 1>\u001b[0;34m()\u001b[0m\n\u001b[0;32m----> 1\u001b[0;31m \u001b[0mmodel\u001b[0m\u001b[0;34m.\u001b[0m\u001b[0mlayers\u001b[0m\u001b[0;34m[\u001b[0m\u001b[0;36m3\u001b[0m\u001b[0;34m]\u001b[0m\u001b[0;34m.\u001b[0m\u001b[0mestimators\u001b[0m\u001b[0;34m[\u001b[0m\u001b[0;36m0\u001b[0m\u001b[0;34m]\u001b[0m\u001b[0;34m.\u001b[0m\u001b[0moutput_shape\u001b[0m\u001b[0;34m\u001b[0m\u001b[0;34m\u001b[0m\u001b[0m\n\u001b[0m",
      "\u001b[0;32m~/anaconda3/envs/tensorflow_2_9/lib/python3.9/site-packages/keras/engine/base_layer.py\u001b[0m in \u001b[0;36moutput_shape\u001b[0;34m(self)\u001b[0m\n\u001b[1;32m   1985\u001b[0m     \"\"\"\n\u001b[1;32m   1986\u001b[0m     \u001b[0;32mif\u001b[0m \u001b[0;32mnot\u001b[0m \u001b[0mself\u001b[0m\u001b[0;34m.\u001b[0m\u001b[0m_inbound_nodes\u001b[0m\u001b[0;34m:\u001b[0m\u001b[0;34m\u001b[0m\u001b[0;34m\u001b[0m\u001b[0m\n\u001b[0;32m-> 1987\u001b[0;31m       raise AttributeError(f'The layer \"{self.name}\" has never been called '\n\u001b[0m\u001b[1;32m   1988\u001b[0m                            'and thus has no defined output shape.')\n\u001b[1;32m   1989\u001b[0m     all_output_shapes = set(\n",
      "\u001b[0;31mAttributeError\u001b[0m: The layer \"scaled_quant_dense\" has never been called and thus has no defined output shape."
     ]
    }
   ],
   "source": [
    "model.layers[3].estimators[0].output_shape"
   ]
  },
  {
   "cell_type": "code",
   "execution_count": 5,
   "id": "c4abebc9-4367-4a2c-a933-1da4d2dfac89",
   "metadata": {},
   "outputs": [
    {
     "data": {
      "text/plain": [
       "True"
      ]
     },
     "execution_count": 5,
     "metadata": {},
     "output_type": "execute_result"
    }
   ],
   "source": [
    "isinstance(,tf.keras.Model)"
   ]
  },
  {
   "cell_type": "code",
   "execution_count": 6,
   "id": "027ba6d3-de24-4b80-88b6-733df45548ce",
   "metadata": {},
   "outputs": [],
   "source": [
    "s=tf.keras.Sequential([])"
   ]
  },
  {
   "cell_type": "code",
   "execution_count": 7,
   "id": "6ea5af81-0864-41ea-ac97-7ee794a7354b",
   "metadata": {},
   "outputs": [
    {
     "data": {
      "text/plain": [
       "<keras.engine.sequential.Sequential at 0x7f75d19889a0>"
      ]
     },
     "execution_count": 7,
     "metadata": {},
     "output_type": "execute_result"
    }
   ],
   "source": [
    "s"
   ]
  },
  {
   "cell_type": "code",
   "execution_count": 8,
   "id": "43c7b35f-bda5-478e-81ab-ba7c595a8faa",
   "metadata": {},
   "outputs": [
    {
     "data": {
      "text/plain": [
       "keras.engine.sequential.Sequential"
      ]
     },
     "execution_count": 8,
     "metadata": {},
     "output_type": "execute_result"
    }
   ],
   "source": [
    "type(s)"
   ]
  },
  {
   "cell_type": "code",
   "execution_count": null,
   "id": "4acc1937-e2d5-4b36-9884-3b6357d29eaa",
   "metadata": {},
   "outputs": [],
   "source": []
  }
 ],
 "metadata": {
  "kernelspec": {
   "display_name": "Python 3 (ipykernel)",
   "language": "python",
   "name": "python3"
  },
  "language_info": {
   "codemirror_mode": {
    "name": "ipython",
    "version": 3
   },
   "file_extension": ".py",
   "mimetype": "text/x-python",
   "name": "python",
   "nbconvert_exporter": "python",
   "pygments_lexer": "ipython3",
   "version": "3.9.13"
  }
 },
 "nbformat": 4,
 "nbformat_minor": 5
}
