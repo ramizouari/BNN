{
 "cells": [
  {
   "cell_type": "code",
   "execution_count": 1,
   "metadata": {
    "pycharm": {
     "name": "#%%\n"
    },
    "tags": []
   },
   "outputs": [
    {
     "name": "stderr",
     "output_type": "stream",
     "text": [
      "2022-08-04 17:22:26.174028: E tensorflow/stream_executor/cuda/cuda_driver.cc:271] failed call to cuInit: CUDA_ERROR_UNKNOWN: unknown error\n",
      "2022-08-04 17:22:26.174105: I tensorflow/stream_executor/cuda/cuda_diagnostics.cc:169] retrieving CUDA diagnostic information for host: fedora\n",
      "2022-08-04 17:22:26.174113: I tensorflow/stream_executor/cuda/cuda_diagnostics.cc:176] hostname: fedora\n",
      "2022-08-04 17:22:26.174217: I tensorflow/stream_executor/cuda/cuda_diagnostics.cc:200] libcuda reported version is: 515.57.0\n",
      "2022-08-04 17:22:26.174234: I tensorflow/stream_executor/cuda/cuda_diagnostics.cc:204] kernel reported version is: 515.57.0\n",
      "2022-08-04 17:22:26.174239: I tensorflow/stream_executor/cuda/cuda_diagnostics.cc:310] kernel version seems to match DSO: 515.57.0\n",
      "2022-08-04 17:22:26.174473: I tensorflow/core/platform/cpu_feature_guard.cc:193] This TensorFlow binary is optimized with oneAPI Deep Neural Network Library (oneDNN) to use the following CPU instructions in performance-critical operations:  AVX2 FMA\n",
      "To enable them in other operations, rebuild TensorFlow with the appropriate compiler flags.\n"
     ]
    }
   ],
   "source": [
    "import tensorflow as tf\n",
    "import larq as lq\n",
    "import numpy as np\n",
    "import matplotlib.pyplot as plt\n",
    "import seaborn as sns\n",
    "from binaryflow.layers import XnorNet\n",
    "from binaryflow import quantizers\n",
    "tensorflow=tf"
   ]
  },
  {
   "cell_type": "code",
   "execution_count": 297,
   "metadata": {},
   "outputs": [],
   "source": [
    "class ABCBase(tensorflow.keras.Model):\n",
    "    \"\"\"\n",
    "    This is the base class of ABCNetworks\n",
    "    It contains the functions shared by any ABCNet\n",
    "    <ul>\n",
    "        <li> <strong> hyperparameters </strong>:\n",
    "            <ul>\n",
    "                <li> kernel_estimators:  number of kernel quantizers</li>\n",
    "                <li> input_estimators: number of input quantizers</li>\n",
    "                <li> kernel_quantizers: the quantizers used for the kernel. defaults to ShiftedSteSign </li>\n",
    "                <li> input_quantizers: the quantizers used for the input. defaults to ShiftedSteSign </li>\n",
    "                <li> estimators: the estimators used to estimate the output of the non-binarised version of the layer. The content of estimators should be of the same class, and should contain the parameters of the underlying models </li>\n",
    "            </ul>\n",
    "        <li> <strong>input</strong>: x a tensor, with adequate shape (see subclasses) </li>\n",
    "        <li> <strong>output</strong>: ABC(x)\n",
    "    </ul>\n",
    "    \"\"\"\n",
    "    def __init__(self,*args,**kwargs):\n",
    "        super(ABCBase,self).__init__(*args,**kwargs)\n",
    "        self.estimator=lq.layers.QuantDense(30,input_quantizer=\"ste_sign\",kernel_quantizer=\"ste_sign\",kernel_constraint=\"weight_clip\")\n",
    "    pass\n",
    "\n",
    "    def build(self,input_shape):\n",
    "        super(ABCBase,self).build(input_shape)\n",
    "        self.estimator.build(input_shape)\n",
    "        self.inputs=tf.keras.layers.Input(input_shape[1:])\n",
    "        self.outputs=self.call(self.inputs)\n",
    "        \n",
    "\n",
    "    def call(self,inputs,training=False):\n",
    "        return self.estimator(inputs)\n",
    "    \n",
    "    \n",
    "        \n",
    "\n",
    "        \n",
    "        \n",
    "        \n",
    "estimators=[lq.layers.QuantDense(3,input_quantizer=\"ste_sign\",kernel_quantizer=\"ste_sign\",kernel_constraint=\"weight_clip\") for i in range(5)]\n",
    "\n",
    "\n",
    "x=tf.keras.Input(shape=(30,))\n",
    "M=ABCBase()"
   ]
  },
  {
   "cell_type": "code",
   "execution_count": 298,
   "metadata": {},
   "outputs": [
    {
     "name": "stdout",
     "output_type": "stream",
     "text": [
      "Epoch 1/5\n"
     ]
    },
    {
     "name": "stderr",
     "output_type": "stream",
     "text": [
      "/home/ramizouari/anaconda3/envs/tensorflow_2_9/lib/python3.9/site-packages/keras/optimizers/optimizer_v2/adam.py:110: UserWarning: The `lr` argument is deprecated, use `learning_rate` instead.\n",
      "  super(Adam, self).__init__(name, **kwargs)\n"
     ]
    },
    {
     "name": "stdout",
     "output_type": "stream",
     "text": [
      "32/32 [==============================] - 0s 1ms/step - loss: 124.1269\n",
      "Epoch 2/5\n",
      "32/32 [==============================] - 0s 2ms/step - loss: 111.5900\n",
      "Epoch 3/5\n",
      "32/32 [==============================] - 0s 1ms/step - loss: 112.5790\n",
      "Epoch 4/5\n",
      "32/32 [==============================] - 0s 1ms/step - loss: 113.2290\n",
      "Epoch 5/5\n",
      "32/32 [==============================] - 0s 1ms/step - loss: 114.1696\n"
     ]
    },
    {
     "data": {
      "text/plain": [
       "<keras.callbacks.History at 0x7fa89ca11c70>"
      ]
     },
     "execution_count": 298,
     "metadata": {},
     "output_type": "execute_result"
    }
   ],
   "source": [
    "M.compile(\n",
    "    tf.keras.optimizers.Adam(lr=0.01, decay=0.0001),\n",
    "    loss=\"MSE\")\n",
    "X=np.random.normal(0,10,[1000,30])\n",
    "M.fit(X,X,epochs=5)"
   ]
  },
  {
   "cell_type": "code",
   "execution_count": null,
   "metadata": {},
   "outputs": [],
   "source": []
  },
  {
   "cell_type": "code",
   "execution_count": 299,
   "metadata": {},
   "outputs": [
    {
     "name": "stdout",
     "output_type": "stream",
     "text": [
      "+abc_base_49 stats--------------------------------------------------------------+\n",
      "| Layer            Input prec.   Outputs  # 1-bit  # 32-bit  Memory  1-bit MACs |\n",
      "|                        (bit)                x 1       x 1    (kB)             |\n",
      "+-------------------------------------------------------------------------------+\n",
      "| quant_dense_282            1  (-1, 30)      900        30    0.23         900 |\n",
      "+-------------------------------------------------------------------------------+\n",
      "| Total                                       900        30    0.23         900 |\n",
      "+-------------------------------------------------------------------------------+\n",
      "+abc_base_49 summary-------------------------+\n",
      "| Total params                      930      |\n",
      "| Trainable params                  930      |\n",
      "| Non-trainable params              0        |\n",
      "| Model size                        232.50 B |\n",
      "| Model size (8-bit FP weights)     142.50 B |\n",
      "| Float-32 Equivalent               3.63 KiB |\n",
      "| Compression Ratio of Memory       0.06     |\n",
      "| Number of MACs                    900      |\n",
      "| Ratio of MACs that are binarized  1.0000   |\n",
      "+--------------------------------------------+\n"
     ]
    }
   ],
   "source": [
    "lq.models.summary(M)"
   ]
  },
  {
   "cell_type": "code",
   "execution_count": 257,
   "metadata": {},
   "outputs": [],
   "source": [
    "profiler=lq.models.ModelProfile(M)"
   ]
  },
  {
   "cell_type": "code",
   "execution_count": 258,
   "metadata": {},
   "outputs": [],
   "source": [
    "profiler.output_shape"
   ]
  },
  {
   "cell_type": "code",
   "execution_count": 259,
   "metadata": {},
   "outputs": [
    {
     "data": {
      "text/plain": [
       "[<larq.layers.QuantDense at 0x7fa8dd59f850>]"
      ]
     },
     "execution_count": 259,
     "metadata": {},
     "output_type": "execute_result"
    }
   ],
   "source": [
    "M.layers"
   ]
  },
  {
   "cell_type": "code",
   "execution_count": 268,
   "metadata": {},
   "outputs": [],
   "source": [
    "x=tf.keras.layers.Input(shape=(24))\n",
    "y=tf.keras.layers.Add()([XnorNet.ScaledQuantDense(24,input_quantizer=\"ste_sign\",kernel_quantizer=\"ste_sign\",kernel_constraint=\"weight_clip\")(x) for i in range(32)])\n"
   ]
  },
  {
   "cell_type": "code",
   "execution_count": 269,
   "metadata": {},
   "outputs": [],
   "source": [
    "M=tf.keras.Model(x,y)"
   ]
  },
  {
   "cell_type": "code",
   "execution_count": 270,
   "metadata": {},
   "outputs": [
    {
     "name": "stdout",
     "output_type": "stream",
     "text": [
      "Epoch 1/5\n",
      "32/32 [==============================] - 4s 3ms/step - loss: 440.7860\n",
      "Epoch 2/5\n",
      "32/32 [==============================] - 0s 3ms/step - loss: 117.3351\n",
      "Epoch 3/5\n",
      "32/32 [==============================] - 0s 3ms/step - loss: 94.4985\n",
      "Epoch 4/5\n",
      "32/32 [==============================] - 0s 3ms/step - loss: 98.2554\n",
      "Epoch 5/5\n",
      "32/32 [==============================] - 0s 4ms/step - loss: 96.9802\n"
     ]
    },
    {
     "data": {
      "text/plain": [
       "<keras.callbacks.History at 0x7fa8df721dc0>"
      ]
     },
     "execution_count": 270,
     "metadata": {},
     "output_type": "execute_result"
    }
   ],
   "source": [
    "M.compile(\n",
    "    tf.keras.optimizers.Adam(lr=0.01, decay=0.0001),\n",
    "    loss=\"MSE\")\n",
    "X=np.random.normal(0,10,[1000,24])\n",
    "M.fit(X,X,epochs=5)"
   ]
  },
  {
   "cell_type": "code",
   "execution_count": 271,
   "metadata": {},
   "outputs": [
    {
     "name": "stdout",
     "output_type": "stream",
     "text": [
      "+model_19 stats-------------------------------------------------------------------------------------+\n",
      "| Layer                   Input prec.   Outputs  # 1-bit  # 32-bit  Memory  1-bit MACs  32-bit MACs |\n",
      "|                               (bit)                x 1       x 1    (kB)                          |\n",
      "+---------------------------------------------------------------------------------------------------+\n",
      "| input_35                          -  (-1, 24)        0         0       0           ?            ? |\n",
      "| scaled_quant_dense_250            1  (-1, 24)      576        48    0.26         576           24 |\n",
      "| scaled_quant_dense_251            1  (-1, 24)      576        48    0.26         576           24 |\n",
      "| scaled_quant_dense_252            1  (-1, 24)      576        48    0.26         576           24 |\n",
      "| scaled_quant_dense_253            1  (-1, 24)      576        48    0.26         576           24 |\n",
      "| scaled_quant_dense_254            1  (-1, 24)      576        48    0.26         576           24 |\n",
      "| scaled_quant_dense_255            1  (-1, 24)      576        48    0.26         576           24 |\n",
      "| scaled_quant_dense_256            1  (-1, 24)      576        48    0.26         576           24 |\n",
      "| scaled_quant_dense_257            1  (-1, 24)      576        48    0.26         576           24 |\n",
      "| scaled_quant_dense_258            1  (-1, 24)      576        48    0.26         576           24 |\n",
      "| scaled_quant_dense_259            1  (-1, 24)      576        48    0.26         576           24 |\n",
      "| scaled_quant_dense_260            1  (-1, 24)      576        48    0.26         576           24 |\n",
      "| scaled_quant_dense_261            1  (-1, 24)      576        48    0.26         576           24 |\n",
      "| scaled_quant_dense_262            1  (-1, 24)      576        48    0.26         576           24 |\n",
      "| scaled_quant_dense_263            1  (-1, 24)      576        48    0.26         576           24 |\n",
      "| scaled_quant_dense_264            1  (-1, 24)      576        48    0.26         576           24 |\n",
      "| scaled_quant_dense_265            1  (-1, 24)      576        48    0.26         576           24 |\n",
      "| scaled_quant_dense_266            1  (-1, 24)      576        48    0.26         576           24 |\n",
      "| scaled_quant_dense_267            1  (-1, 24)      576        48    0.26         576           24 |\n",
      "| scaled_quant_dense_268            1  (-1, 24)      576        48    0.26         576           24 |\n",
      "| scaled_quant_dense_269            1  (-1, 24)      576        48    0.26         576           24 |\n",
      "| scaled_quant_dense_270            1  (-1, 24)      576        48    0.26         576           24 |\n",
      "| scaled_quant_dense_271            1  (-1, 24)      576        48    0.26         576           24 |\n",
      "| scaled_quant_dense_272            1  (-1, 24)      576        48    0.26         576           24 |\n",
      "| scaled_quant_dense_273            1  (-1, 24)      576        48    0.26         576           24 |\n",
      "| scaled_quant_dense_274            1  (-1, 24)      576        48    0.26         576           24 |\n",
      "| scaled_quant_dense_275            1  (-1, 24)      576        48    0.26         576           24 |\n",
      "| scaled_quant_dense_276            1  (-1, 24)      576        48    0.26         576           24 |\n",
      "| scaled_quant_dense_277            1  (-1, 24)      576        48    0.26         576           24 |\n",
      "| scaled_quant_dense_278            1  (-1, 24)      576        48    0.26         576           24 |\n",
      "| scaled_quant_dense_279            1  (-1, 24)      576        48    0.26         576           24 |\n",
      "| scaled_quant_dense_280            1  (-1, 24)      576        48    0.26         576           24 |\n",
      "| scaled_quant_dense_281            1  (-1, 24)      576        48    0.26         576           24 |\n",
      "| add_6                             -  (-1, 24)        0         0       0           ?            ? |\n",
      "+---------------------------------------------------------------------------------------------------+\n",
      "| Total                                            18432      1536    8.25       18432          768 |\n",
      "+---------------------------------------------------------------------------------------------------+\n",
      "+model_19 summary-----------------------------+\n",
      "| Total params                      20 k      |\n",
      "| Trainable params                  19.2 k    |\n",
      "| Non-trainable params              768       |\n",
      "| Model size                        8.25 KiB  |\n",
      "| Model size (8-bit FP weights)     3.75 KiB  |\n",
      "| Float-32 Equivalent               78.00 KiB |\n",
      "| Compression Ratio of Memory       0.11      |\n",
      "| Number of MACs                    19.2 k    |\n",
      "| Ratio of MACs that are binarized  0.9600    |\n",
      "+---------------------------------------------+\n"
     ]
    }
   ],
   "source": [
    "lq.models.summary(M)"
   ]
  },
  {
   "cell_type": "code",
   "execution_count": 176,
   "metadata": {},
   "outputs": [
    {
     "data": {
      "text/plain": [
       "array([[  3.20782526,  10.76814446, -12.93090936, ...,  10.50177195,\n",
       "        -14.42887378, -10.3534466 ],\n",
       "       [  5.95250671,  11.03056017,  13.01424018, ...,   9.34781438,\n",
       "         10.48834329,   4.36465717],\n",
       "       [  3.43643614,   2.4846746 , -10.45888982, ...,  -2.63027835,\n",
       "         -0.17769273,  21.37086089],\n",
       "       ...,\n",
       "       [  6.08230481, -13.28203713, -27.80959159, ...,   6.27673067,\n",
       "          4.43736327, -10.40731112],\n",
       "       [ -8.008216  , -13.84987933,  -3.77006756, ...,   0.19840277,\n",
       "         -1.55798806, -12.06207666],\n",
       "       [ -0.19244717,  -7.99895972,   4.64257551, ...,   4.08358993,\n",
       "         11.33182605, -19.11890498]])"
      ]
     },
     "execution_count": 176,
     "metadata": {},
     "output_type": "execute_result"
    }
   ],
   "source": [
    "X"
   ]
  },
  {
   "cell_type": "code",
   "execution_count": 181,
   "metadata": {},
   "outputs": [],
   "source": [
    "profiler=lq.models.ModelProfile(M)"
   ]
  },
  {
   "cell_type": "code",
   "execution_count": 182,
   "metadata": {},
   "outputs": [
    {
     "data": {
      "text/plain": [
       "0"
      ]
     },
     "execution_count": 182,
     "metadata": {},
     "output_type": "execute_result"
    }
   ],
   "source": [
    "profiler.op_count(\"mac\")"
   ]
  },
  {
   "cell_type": "code",
   "execution_count": 183,
   "metadata": {},
   "outputs": [
    {
     "data": {
      "text/plain": [
       "True"
      ]
     },
     "execution_count": 183,
     "metadata": {},
     "output_type": "execute_result"
    }
   ],
   "source": [
    "isinstance(M,tf.keras.Model)"
   ]
  },
  {
   "cell_type": "code",
   "execution_count": 197,
   "metadata": {},
   "outputs": [
    {
     "data": {
      "text/plain": [
       "True"
      ]
     },
     "execution_count": 197,
     "metadata": {},
     "output_type": "execute_result"
    }
   ],
   "source": [
    "isinstance(M.layers[0],lq.layers.QuantDense)"
   ]
  },
  {
   "cell_type": "code",
   "execution_count": 260,
   "metadata": {},
   "outputs": [
    {
     "name": "stdout",
     "output_type": "stream",
     "text": [
      "Model: \"abc_base_34\"\n",
      "_________________________________________________________________\n",
      " Layer (type)                Output Shape              Param #   \n",
      "=================================================================\n",
      " quant_dense_207 (QuantDense  multiple                 930       \n",
      " )                                                               \n",
      "                                                                 \n",
      "=================================================================\n",
      "Total params: 930\n",
      "Trainable params: 930\n",
      "Non-trainable params: 0\n",
      "_________________________________________________________________\n"
     ]
    }
   ],
   "source": [
    "M.summary()"
   ]
  },
  {
   "cell_type": "code",
   "execution_count": 272,
   "metadata": {},
   "outputs": [
    {
     "data": {
      "text/plain": [
       "<KerasTensor: shape=(None, 24) dtype=float32 (created by layer 'add_6')>"
      ]
     },
     "execution_count": 272,
     "metadata": {},
     "output_type": "execute_result"
    }
   ],
   "source": [
    "M.output"
   ]
  },
  {
   "cell_type": "code",
   "execution_count": 261,
   "metadata": {},
   "outputs": [],
   "source": [
    "class MyModel(tf.keras.Model):\n",
    "    def __init__(self):\n",
    "        super().__init__()\n",
    "        self.dense1 = tf.keras.layers.Dense(4, activation=tf.nn.relu)\n",
    "        self.dense2 = tf.keras.layers.Dense(5, activation=tf.nn.softmax)\n",
    "\n",
    "    def call(self, inputs):\n",
    "        x = self.dense1(inputs)\n",
    "        return self.dense2(x)\n",
    "\n",
    "model = MyModel()\n"
   ]
  },
  {
   "cell_type": "code",
   "execution_count": 266,
   "metadata": {},
   "outputs": [
    {
     "data": {
      "text/plain": [
       "<tf.Tensor: shape=(10, 5), dtype=float32, numpy=\n",
       "array([[0.02589533, 0.0058961 , 0.00098843, 0.91707414, 0.05014604],\n",
       "       [0.02589533, 0.0058961 , 0.00098843, 0.91707414, 0.05014604],\n",
       "       [0.02589533, 0.0058961 , 0.00098843, 0.91707414, 0.05014604],\n",
       "       [0.02589533, 0.0058961 , 0.00098843, 0.91707414, 0.05014604],\n",
       "       [0.02589533, 0.0058961 , 0.00098843, 0.91707414, 0.05014604],\n",
       "       [0.02589533, 0.0058961 , 0.00098843, 0.91707414, 0.05014604],\n",
       "       [0.02589533, 0.0058961 , 0.00098843, 0.91707414, 0.05014604],\n",
       "       [0.02589533, 0.0058961 , 0.00098843, 0.91707414, 0.05014604],\n",
       "       [0.02589533, 0.0058961 , 0.00098843, 0.9170741 , 0.05014604],\n",
       "       [0.02589533, 0.0058961 , 0.00098843, 0.9170741 , 0.05014604]],\n",
       "      dtype=float32)>"
      ]
     },
     "execution_count": 266,
     "metadata": {},
     "output_type": "execute_result"
    }
   ],
   "source": [
    "S=MyModel()\n",
    "S(tf.constant(5,shape=(10,10)))"
   ]
  },
  {
   "cell_type": "code",
   "execution_count": 296,
   "metadata": {},
   "outputs": [
    {
     "ename": "AttributeError",
     "evalue": "Layer abc_base_48 has no inbound nodes.",
     "output_type": "error",
     "traceback": [
      "\u001b[0;31m---------------------------------------------------------------------------\u001b[0m",
      "\u001b[0;31mAttributeError\u001b[0m                            Traceback (most recent call last)",
      "\u001b[0;32m/tmp/ipykernel_53098/3947855238.py\u001b[0m in \u001b[0;36m<cell line: 1>\u001b[0;34m()\u001b[0m\n\u001b[0;32m----> 1\u001b[0;31m \u001b[0mM\u001b[0m\u001b[0;34m.\u001b[0m\u001b[0moutput\u001b[0m\u001b[0;34m\u001b[0m\u001b[0;34m\u001b[0m\u001b[0m\n\u001b[0m",
      "\u001b[0;32m~/anaconda3/envs/tensorflow_2_9/lib/python3.9/site-packages/keras/engine/base_layer.py\u001b[0m in \u001b[0;36moutput\u001b[0;34m(self)\u001b[0m\n\u001b[1;32m   1908\u001b[0m     \"\"\"\n\u001b[1;32m   1909\u001b[0m     \u001b[0;32mif\u001b[0m \u001b[0;32mnot\u001b[0m \u001b[0mself\u001b[0m\u001b[0;34m.\u001b[0m\u001b[0m_inbound_nodes\u001b[0m\u001b[0;34m:\u001b[0m\u001b[0;34m\u001b[0m\u001b[0;34m\u001b[0m\u001b[0m\n\u001b[0;32m-> 1910\u001b[0;31m       \u001b[0;32mraise\u001b[0m \u001b[0mAttributeError\u001b[0m\u001b[0;34m(\u001b[0m\u001b[0;34m'Layer '\u001b[0m \u001b[0;34m+\u001b[0m \u001b[0mself\u001b[0m\u001b[0;34m.\u001b[0m\u001b[0mname\u001b[0m \u001b[0;34m+\u001b[0m \u001b[0;34m' has no inbound nodes.'\u001b[0m\u001b[0;34m)\u001b[0m\u001b[0;34m\u001b[0m\u001b[0;34m\u001b[0m\u001b[0m\n\u001b[0m\u001b[1;32m   1911\u001b[0m     \u001b[0;32mreturn\u001b[0m \u001b[0mself\u001b[0m\u001b[0;34m.\u001b[0m\u001b[0m_get_node_attribute_at_index\u001b[0m\u001b[0;34m(\u001b[0m\u001b[0;36m0\u001b[0m\u001b[0;34m,\u001b[0m \u001b[0;34m'output_tensors'\u001b[0m\u001b[0;34m,\u001b[0m \u001b[0;34m'output'\u001b[0m\u001b[0;34m)\u001b[0m\u001b[0;34m\u001b[0m\u001b[0;34m\u001b[0m\u001b[0m\n\u001b[1;32m   1912\u001b[0m \u001b[0;34m\u001b[0m\u001b[0m\n",
      "\u001b[0;31mAttributeError\u001b[0m: Layer abc_base_48 has no inbound nodes."
     ]
    }
   ],
   "source": [
    "M.output"
   ]
  },
  {
   "cell_type": "code",
   "execution_count": null,
   "metadata": {},
   "outputs": [],
   "source": []
  }
 ],
 "metadata": {
  "kernelspec": {
   "display_name": "Python 3 (ipykernel)",
   "language": "python",
   "name": "python3"
  },
  "language_info": {
   "codemirror_mode": {
    "name": "ipython",
    "version": 3
   },
   "file_extension": ".py",
   "mimetype": "text/x-python",
   "name": "python",
   "nbconvert_exporter": "python",
   "pygments_lexer": "ipython3",
   "version": "3.9.13"
  }
 },
 "nbformat": 4,
 "nbformat_minor": 4
}
